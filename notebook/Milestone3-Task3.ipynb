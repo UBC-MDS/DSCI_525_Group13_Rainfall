{
 "cells": [
  {
   "cell_type": "markdown",
   "metadata": {},
   "source": [
    "# Task 3"
   ]
  },
  {
   "cell_type": "markdown",
   "metadata": {},
   "source": [
    "# Imports"
   ]
  },
  {
   "cell_type": "code",
   "execution_count": 1,
   "metadata": {},
   "outputs": [
    {
     "name": "stderr",
     "output_type": "stream",
     "text": [
      "Matplotlib created a temporary config/cache directory at /tmp/matplotlib-zv8mqxbr because the default path (/home/jupyter-student85/.cache/matplotlib) is not a writable directory; it is highly recommended to set the MPLCONFIGDIR environment variable to a writable directory, in particular to speed up the import of Matplotlib and to better support multiprocessing.\n"
     ]
    }
   ],
   "source": [
    "import numpy as np\n",
    "import pandas as pd\n",
    "from joblib import dump, load\n",
    "from sklearn.metrics import mean_squared_error\n",
    "from sklearn.ensemble import RandomForestRegressor\n",
    "from sklearn.model_selection import train_test_split\n",
    "import matplotlib.pyplot as plt\n",
    "plt.style.use('ggplot')\n",
    "plt.rcParams.update({'font.size': 16, 'axes.labelweight': 'bold', 'figure.figsize': (8,6)})"
   ]
  },
  {
   "cell_type": "markdown",
   "metadata": {},
   "source": [
    "## Part 1:"
   ]
  },
  {
   "cell_type": "markdown",
   "metadata": {},
   "source": [
    "Recall as a final goal of this project. We want to build and deploy ensemble machine learning models in the cloud, where features are outputs of different climate models and the target is the actual rainfall observation. In this milestone, you'll actually build these ensemble machine learning models in the cloud.  \n",
    "\n",
    "**Your tasks:**\n",
    "\n",
    "1. Read the data CSV from your s3 bucket. \n",
    "2. Drop rows with nans. \n",
    "3. Split the data into train (80%) and test (20%) portions with `random_state=123`. \n",
    "4. Carry out EDA of your choice on the train split. \n",
    "5. Train ensemble machine learning model using `RandomForestRegressor` and evaluate with metric of your choice (e.g., `RMSE`) by considering `Observed` as the target column. \n",
    "6. Discuss your results. Are you getting better results with ensemble models compared to the individual climate models? \n",
    "\n",
    "> Recall that individual columns in the data are predictions of different climate models. "
   ]
  },
  {
   "cell_type": "code",
   "execution_count": 2,
   "metadata": {},
   "outputs": [],
   "source": [
    "# Step 1: Read the data CSV from our s3 bucket\n",
    "aws_credentials ={\"key\": \" \",\"secret\": \" \"} \n",
    "df = pd.read_csv('s3://mds-s3-student85/output/ml_data_SYD.csv', storage_options=aws_credentials)"
   ]
  },
  {
   "cell_type": "code",
   "execution_count": 3,
   "metadata": {},
   "outputs": [
    {
     "data": {
      "text/html": [
       "<div>\n",
       "<style scoped>\n",
       "    .dataframe tbody tr th:only-of-type {\n",
       "        vertical-align: middle;\n",
       "    }\n",
       "\n",
       "    .dataframe tbody tr th {\n",
       "        vertical-align: top;\n",
       "    }\n",
       "\n",
       "    .dataframe thead th {\n",
       "        text-align: right;\n",
       "    }\n",
       "</style>\n",
       "<table border=\"1\" class=\"dataframe\">\n",
       "  <thead>\n",
       "    <tr style=\"text-align: right;\">\n",
       "      <th></th>\n",
       "      <th>time</th>\n",
       "      <th>ACCESS-CM2</th>\n",
       "      <th>ACCESS-ESM1-5</th>\n",
       "      <th>AWI-ESM-1-1-LR</th>\n",
       "      <th>BCC-CSM2-MR</th>\n",
       "      <th>BCC-ESM1</th>\n",
       "      <th>CMCC-CM2-HR4</th>\n",
       "      <th>CMCC-CM2-SR5</th>\n",
       "      <th>CMCC-ESM2</th>\n",
       "      <th>CanESM5</th>\n",
       "      <th>...</th>\n",
       "      <th>MPI-ESM-1-2-HAM</th>\n",
       "      <th>MPI-ESM1-2-HR</th>\n",
       "      <th>MPI-ESM1-2-LR</th>\n",
       "      <th>MRI-ESM2-0</th>\n",
       "      <th>NESM3</th>\n",
       "      <th>NorESM2-LM</th>\n",
       "      <th>NorESM2-MM</th>\n",
       "      <th>SAM0-UNICON</th>\n",
       "      <th>TaiESM1</th>\n",
       "      <th>observed_rainfall</th>\n",
       "    </tr>\n",
       "  </thead>\n",
       "  <tbody>\n",
       "    <tr>\n",
       "      <th>0</th>\n",
       "      <td>1889-01-01</td>\n",
       "      <td>0.040427</td>\n",
       "      <td>1.814552</td>\n",
       "      <td>35.579336</td>\n",
       "      <td>4.268112e+00</td>\n",
       "      <td>1.107466e-03</td>\n",
       "      <td>11.410537</td>\n",
       "      <td>3.322009e-08</td>\n",
       "      <td>2.668800</td>\n",
       "      <td>1.321215</td>\n",
       "      <td>...</td>\n",
       "      <td>4.244226e-13</td>\n",
       "      <td>1.390174e-13</td>\n",
       "      <td>6.537884e-05</td>\n",
       "      <td>3.445495e-06</td>\n",
       "      <td>1.576096e+01</td>\n",
       "      <td>4.759651e-05</td>\n",
       "      <td>2.451075</td>\n",
       "      <td>0.221324</td>\n",
       "      <td>2.257933</td>\n",
       "      <td>0.006612</td>\n",
       "    </tr>\n",
       "    <tr>\n",
       "      <th>1</th>\n",
       "      <td>1889-01-02</td>\n",
       "      <td>0.073777</td>\n",
       "      <td>0.303965</td>\n",
       "      <td>4.596520</td>\n",
       "      <td>1.190141e+00</td>\n",
       "      <td>1.015323e-04</td>\n",
       "      <td>4.014984</td>\n",
       "      <td>1.312700e+00</td>\n",
       "      <td>0.946211</td>\n",
       "      <td>2.788724</td>\n",
       "      <td>...</td>\n",
       "      <td>4.409552e+00</td>\n",
       "      <td>1.222283e-01</td>\n",
       "      <td>1.049131e-13</td>\n",
       "      <td>4.791993e-09</td>\n",
       "      <td>3.675510e-01</td>\n",
       "      <td>4.350863e-01</td>\n",
       "      <td>0.477231</td>\n",
       "      <td>3.757179</td>\n",
       "      <td>2.287381</td>\n",
       "      <td>0.090422</td>\n",
       "    </tr>\n",
       "    <tr>\n",
       "      <th>2</th>\n",
       "      <td>1889-01-03</td>\n",
       "      <td>0.232656</td>\n",
       "      <td>0.019976</td>\n",
       "      <td>5.927467</td>\n",
       "      <td>1.003845e-09</td>\n",
       "      <td>1.760345e-05</td>\n",
       "      <td>9.660565</td>\n",
       "      <td>9.103720e+00</td>\n",
       "      <td>0.431999</td>\n",
       "      <td>0.003672</td>\n",
       "      <td>...</td>\n",
       "      <td>2.269300e-01</td>\n",
       "      <td>3.762301e-01</td>\n",
       "      <td>9.758706e-14</td>\n",
       "      <td>6.912302e-01</td>\n",
       "      <td>1.562869e-01</td>\n",
       "      <td>9.561101e+00</td>\n",
       "      <td>0.023083</td>\n",
       "      <td>0.253357</td>\n",
       "      <td>1.199909</td>\n",
       "      <td>1.401452</td>\n",
       "    </tr>\n",
       "    <tr>\n",
       "      <th>3</th>\n",
       "      <td>1889-01-04</td>\n",
       "      <td>0.911319</td>\n",
       "      <td>13.623777</td>\n",
       "      <td>8.029624</td>\n",
       "      <td>8.225225e-02</td>\n",
       "      <td>1.808932e-01</td>\n",
       "      <td>3.951528</td>\n",
       "      <td>1.317160e+01</td>\n",
       "      <td>0.368693</td>\n",
       "      <td>0.013578</td>\n",
       "      <td>...</td>\n",
       "      <td>2.344586e-02</td>\n",
       "      <td>4.214019e-01</td>\n",
       "      <td>7.060915e-03</td>\n",
       "      <td>3.835721e-02</td>\n",
       "      <td>2.472226e-07</td>\n",
       "      <td>5.301038e-01</td>\n",
       "      <td>0.002699</td>\n",
       "      <td>2.185454</td>\n",
       "      <td>2.106737</td>\n",
       "      <td>14.869798</td>\n",
       "    </tr>\n",
       "    <tr>\n",
       "      <th>4</th>\n",
       "      <td>1889-01-05</td>\n",
       "      <td>0.698013</td>\n",
       "      <td>0.021048</td>\n",
       "      <td>2.132686</td>\n",
       "      <td>2.496841e+00</td>\n",
       "      <td>4.708019e-09</td>\n",
       "      <td>2.766362</td>\n",
       "      <td>1.822940e+01</td>\n",
       "      <td>0.339267</td>\n",
       "      <td>0.002468</td>\n",
       "      <td>...</td>\n",
       "      <td>4.270161e-13</td>\n",
       "      <td>1.879692e-01</td>\n",
       "      <td>4.504985e+00</td>\n",
       "      <td>3.506923e-07</td>\n",
       "      <td>1.949792e-13</td>\n",
       "      <td>1.460928e-10</td>\n",
       "      <td>0.001026</td>\n",
       "      <td>2.766507</td>\n",
       "      <td>1.763335</td>\n",
       "      <td>0.467628</td>\n",
       "    </tr>\n",
       "  </tbody>\n",
       "</table>\n",
       "<p>5 rows × 27 columns</p>\n",
       "</div>"
      ],
      "text/plain": [
       "         time  ACCESS-CM2  ACCESS-ESM1-5  AWI-ESM-1-1-LR   BCC-CSM2-MR  \\\n",
       "0  1889-01-01    0.040427       1.814552       35.579336  4.268112e+00   \n",
       "1  1889-01-02    0.073777       0.303965        4.596520  1.190141e+00   \n",
       "2  1889-01-03    0.232656       0.019976        5.927467  1.003845e-09   \n",
       "3  1889-01-04    0.911319      13.623777        8.029624  8.225225e-02   \n",
       "4  1889-01-05    0.698013       0.021048        2.132686  2.496841e+00   \n",
       "\n",
       "       BCC-ESM1  CMCC-CM2-HR4  CMCC-CM2-SR5  CMCC-ESM2   CanESM5  ...  \\\n",
       "0  1.107466e-03     11.410537  3.322009e-08   2.668800  1.321215  ...   \n",
       "1  1.015323e-04      4.014984  1.312700e+00   0.946211  2.788724  ...   \n",
       "2  1.760345e-05      9.660565  9.103720e+00   0.431999  0.003672  ...   \n",
       "3  1.808932e-01      3.951528  1.317160e+01   0.368693  0.013578  ...   \n",
       "4  4.708019e-09      2.766362  1.822940e+01   0.339267  0.002468  ...   \n",
       "\n",
       "   MPI-ESM-1-2-HAM  MPI-ESM1-2-HR  MPI-ESM1-2-LR    MRI-ESM2-0         NESM3  \\\n",
       "0     4.244226e-13   1.390174e-13   6.537884e-05  3.445495e-06  1.576096e+01   \n",
       "1     4.409552e+00   1.222283e-01   1.049131e-13  4.791993e-09  3.675510e-01   \n",
       "2     2.269300e-01   3.762301e-01   9.758706e-14  6.912302e-01  1.562869e-01   \n",
       "3     2.344586e-02   4.214019e-01   7.060915e-03  3.835721e-02  2.472226e-07   \n",
       "4     4.270161e-13   1.879692e-01   4.504985e+00  3.506923e-07  1.949792e-13   \n",
       "\n",
       "     NorESM2-LM  NorESM2-MM  SAM0-UNICON   TaiESM1  observed_rainfall  \n",
       "0  4.759651e-05    2.451075     0.221324  2.257933           0.006612  \n",
       "1  4.350863e-01    0.477231     3.757179  2.287381           0.090422  \n",
       "2  9.561101e+00    0.023083     0.253357  1.199909           1.401452  \n",
       "3  5.301038e-01    0.002699     2.185454  2.106737          14.869798  \n",
       "4  1.460928e-10    0.001026     2.766507  1.763335           0.467628  \n",
       "\n",
       "[5 rows x 27 columns]"
      ]
     },
     "execution_count": 3,
     "metadata": {},
     "output_type": "execute_result"
    }
   ],
   "source": [
    "# Step 2: Drop rows with nans\n",
    "df = df.dropna()\n",
    "df.head()"
   ]
  },
  {
   "cell_type": "code",
   "execution_count": 4,
   "metadata": {},
   "outputs": [],
   "source": [
    "# Step 3: Split the data into train (80%) and test (20%) portions with random_state=123\n",
    "X = df.drop(columns = ['observed_rainfall', 'time'])\n",
    "y = df['observed_rainfall']\n",
    "X_train, X_test, y_train, y_test = train_test_split(\n",
    "    X, y, test_size=0.2, random_state=123\n",
    ")"
   ]
  },
  {
   "cell_type": "code",
   "execution_count": 5,
   "metadata": {},
   "outputs": [
    {
     "data": {
      "text/html": [
       "<div>\n",
       "<style scoped>\n",
       "    .dataframe tbody tr th:only-of-type {\n",
       "        vertical-align: middle;\n",
       "    }\n",
       "\n",
       "    .dataframe tbody tr th {\n",
       "        vertical-align: top;\n",
       "    }\n",
       "\n",
       "    .dataframe thead th {\n",
       "        text-align: right;\n",
       "    }\n",
       "</style>\n",
       "<table border=\"1\" class=\"dataframe\">\n",
       "  <thead>\n",
       "    <tr style=\"text-align: right;\">\n",
       "      <th></th>\n",
       "      <th>ACCESS-CM2</th>\n",
       "      <th>ACCESS-ESM1-5</th>\n",
       "      <th>AWI-ESM-1-1-LR</th>\n",
       "      <th>BCC-CSM2-MR</th>\n",
       "      <th>BCC-ESM1</th>\n",
       "      <th>CMCC-CM2-HR4</th>\n",
       "      <th>CMCC-CM2-SR5</th>\n",
       "      <th>CMCC-ESM2</th>\n",
       "      <th>CanESM5</th>\n",
       "      <th>EC-Earth3-Veg-LR</th>\n",
       "      <th>...</th>\n",
       "      <th>MIROC6</th>\n",
       "      <th>MPI-ESM-1-2-HAM</th>\n",
       "      <th>MPI-ESM1-2-HR</th>\n",
       "      <th>MPI-ESM1-2-LR</th>\n",
       "      <th>MRI-ESM2-0</th>\n",
       "      <th>NESM3</th>\n",
       "      <th>NorESM2-LM</th>\n",
       "      <th>NorESM2-MM</th>\n",
       "      <th>SAM0-UNICON</th>\n",
       "      <th>TaiESM1</th>\n",
       "    </tr>\n",
       "  </thead>\n",
       "  <tbody>\n",
       "    <tr>\n",
       "      <th>count</th>\n",
       "      <td>36816.000000</td>\n",
       "      <td>36816.000000</td>\n",
       "      <td>3.681600e+04</td>\n",
       "      <td>36816.000000</td>\n",
       "      <td>36816.000000</td>\n",
       "      <td>36816.000000</td>\n",
       "      <td>3.681600e+04</td>\n",
       "      <td>3.681600e+04</td>\n",
       "      <td>36816.000000</td>\n",
       "      <td>3.681600e+04</td>\n",
       "      <td>...</td>\n",
       "      <td>3.681600e+04</td>\n",
       "      <td>3.681600e+04</td>\n",
       "      <td>3.681600e+04</td>\n",
       "      <td>3.681600e+04</td>\n",
       "      <td>3.681600e+04</td>\n",
       "      <td>3.681600e+04</td>\n",
       "      <td>36816.000000</td>\n",
       "      <td>36816.000000</td>\n",
       "      <td>3.681600e+04</td>\n",
       "      <td>3.681600e+04</td>\n",
       "    </tr>\n",
       "    <tr>\n",
       "      <th>mean</th>\n",
       "      <td>2.435598</td>\n",
       "      <td>2.911161</td>\n",
       "      <td>3.685100e+00</td>\n",
       "      <td>2.195160</td>\n",
       "      <td>2.771609</td>\n",
       "      <td>3.116934</td>\n",
       "      <td>3.591418e+00</td>\n",
       "      <td>3.490604e+00</td>\n",
       "      <td>2.950611</td>\n",
       "      <td>2.559451e+00</td>\n",
       "      <td>...</td>\n",
       "      <td>3.095043e+00</td>\n",
       "      <td>3.175946e+00</td>\n",
       "      <td>1.328797e+00</td>\n",
       "      <td>2.048747e+00</td>\n",
       "      <td>1.536491e+00</td>\n",
       "      <td>1.752144e+00</td>\n",
       "      <td>2.451512</td>\n",
       "      <td>2.909697</td>\n",
       "      <td>3.391212e+00</td>\n",
       "      <td>3.403765e+00</td>\n",
       "    </tr>\n",
       "    <tr>\n",
       "      <th>std</th>\n",
       "      <td>6.876014</td>\n",
       "      <td>6.951689</td>\n",
       "      <td>7.227256e+00</td>\n",
       "      <td>6.502536</td>\n",
       "      <td>6.051221</td>\n",
       "      <td>6.466975</td>\n",
       "      <td>7.392305e+00</td>\n",
       "      <td>7.076361e+00</td>\n",
       "      <td>7.074549</td>\n",
       "      <td>5.739063e+00</td>\n",
       "      <td>...</td>\n",
       "      <td>7.728605e+00</td>\n",
       "      <td>6.883672e+00</td>\n",
       "      <td>4.955151e+00</td>\n",
       "      <td>5.375858e+00</td>\n",
       "      <td>4.993425e+00</td>\n",
       "      <td>4.937174e+00</td>\n",
       "      <td>5.796878</td>\n",
       "      <td>7.173033</td>\n",
       "      <td>7.960724e+00</td>\n",
       "      <td>7.525256e+00</td>\n",
       "    </tr>\n",
       "    <tr>\n",
       "      <th>min</th>\n",
       "      <td>0.000000</td>\n",
       "      <td>0.000000</td>\n",
       "      <td>9.161142e-14</td>\n",
       "      <td>0.000000</td>\n",
       "      <td>0.000000</td>\n",
       "      <td>0.000000</td>\n",
       "      <td>-3.479596e-18</td>\n",
       "      <td>-3.186177e-19</td>\n",
       "      <td>0.000000</td>\n",
       "      <td>-9.934637e-19</td>\n",
       "      <td>...</td>\n",
       "      <td>1.044483e-31</td>\n",
       "      <td>3.315622e-13</td>\n",
       "      <td>1.089808e-13</td>\n",
       "      <td>9.155419e-14</td>\n",
       "      <td>9.479186e-33</td>\n",
       "      <td>1.426891e-13</td>\n",
       "      <td>0.000000</td>\n",
       "      <td>0.000000</td>\n",
       "      <td>-3.604673e-17</td>\n",
       "      <td>-2.148475e-14</td>\n",
       "    </tr>\n",
       "    <tr>\n",
       "      <th>25%</th>\n",
       "      <td>0.053584</td>\n",
       "      <td>0.021379</td>\n",
       "      <td>2.819840e-02</td>\n",
       "      <td>0.000518</td>\n",
       "      <td>0.002370</td>\n",
       "      <td>0.138181</td>\n",
       "      <td>8.941694e-02</td>\n",
       "      <td>9.016145e-02</td>\n",
       "      <td>0.022656</td>\n",
       "      <td>1.192093e-02</td>\n",
       "      <td>...</td>\n",
       "      <td>1.873953e-02</td>\n",
       "      <td>1.005828e-04</td>\n",
       "      <td>1.270362e-13</td>\n",
       "      <td>1.352331e-13</td>\n",
       "      <td>5.353678e-05</td>\n",
       "      <td>1.862711e-13</td>\n",
       "      <td>0.005547</td>\n",
       "      <td>0.010028</td>\n",
       "      <td>3.754041e-02</td>\n",
       "      <td>4.883792e-02</td>\n",
       "    </tr>\n",
       "    <tr>\n",
       "      <th>50%</th>\n",
       "      <td>0.191574</td>\n",
       "      <td>0.494985</td>\n",
       "      <td>5.851130e-01</td>\n",
       "      <td>0.096505</td>\n",
       "      <td>0.295341</td>\n",
       "      <td>0.643671</td>\n",
       "      <td>8.435672e-01</td>\n",
       "      <td>8.216741e-01</td>\n",
       "      <td>0.348699</td>\n",
       "      <td>4.261732e-01</td>\n",
       "      <td>...</td>\n",
       "      <td>3.512424e-01</td>\n",
       "      <td>2.054757e-01</td>\n",
       "      <td>1.752656e-03</td>\n",
       "      <td>1.146820e-01</td>\n",
       "      <td>3.193842e-02</td>\n",
       "      <td>5.167065e-02</td>\n",
       "      <td>0.167970</td>\n",
       "      <td>0.256126</td>\n",
       "      <td>6.540263e-01</td>\n",
       "      <td>6.658721e-01</td>\n",
       "    </tr>\n",
       "    <tr>\n",
       "      <th>75%</th>\n",
       "      <td>1.435693</td>\n",
       "      <td>2.398416</td>\n",
       "      <td>3.571731e+00</td>\n",
       "      <td>1.323656</td>\n",
       "      <td>2.508854</td>\n",
       "      <td>3.219543</td>\n",
       "      <td>3.724556e+00</td>\n",
       "      <td>3.630505e+00</td>\n",
       "      <td>2.615149</td>\n",
       "      <td>2.294516e+00</td>\n",
       "      <td>...</td>\n",
       "      <td>2.306289e+00</td>\n",
       "      <td>2.685723e+00</td>\n",
       "      <td>3.616506e-01</td>\n",
       "      <td>1.183620e+00</td>\n",
       "      <td>6.686751e-01</td>\n",
       "      <td>7.920023e-01</td>\n",
       "      <td>1.819091</td>\n",
       "      <td>2.502725</td>\n",
       "      <td>3.271716e+00</td>\n",
       "      <td>3.217312e+00</td>\n",
       "    </tr>\n",
       "    <tr>\n",
       "      <th>max</th>\n",
       "      <td>149.967634</td>\n",
       "      <td>157.605713</td>\n",
       "      <td>8.946575e+01</td>\n",
       "      <td>134.465223</td>\n",
       "      <td>87.134722</td>\n",
       "      <td>124.952390</td>\n",
       "      <td>1.401478e+02</td>\n",
       "      <td>1.375916e+02</td>\n",
       "      <td>135.569753</td>\n",
       "      <td>1.342262e+02</td>\n",
       "      <td>...</td>\n",
       "      <td>1.671499e+02</td>\n",
       "      <td>9.306766e+01</td>\n",
       "      <td>1.095008e+02</td>\n",
       "      <td>8.005998e+01</td>\n",
       "      <td>1.016900e+02</td>\n",
       "      <td>8.045783e+01</td>\n",
       "      <td>103.367212</td>\n",
       "      <td>163.164524</td>\n",
       "      <td>1.549718e+02</td>\n",
       "      <td>1.673562e+02</td>\n",
       "    </tr>\n",
       "  </tbody>\n",
       "</table>\n",
       "<p>8 rows × 25 columns</p>\n",
       "</div>"
      ],
      "text/plain": [
       "         ACCESS-CM2  ACCESS-ESM1-5  AWI-ESM-1-1-LR   BCC-CSM2-MR  \\\n",
       "count  36816.000000   36816.000000    3.681600e+04  36816.000000   \n",
       "mean       2.435598       2.911161    3.685100e+00      2.195160   \n",
       "std        6.876014       6.951689    7.227256e+00      6.502536   \n",
       "min        0.000000       0.000000    9.161142e-14      0.000000   \n",
       "25%        0.053584       0.021379    2.819840e-02      0.000518   \n",
       "50%        0.191574       0.494985    5.851130e-01      0.096505   \n",
       "75%        1.435693       2.398416    3.571731e+00      1.323656   \n",
       "max      149.967634     157.605713    8.946575e+01    134.465223   \n",
       "\n",
       "           BCC-ESM1  CMCC-CM2-HR4  CMCC-CM2-SR5     CMCC-ESM2       CanESM5  \\\n",
       "count  36816.000000  36816.000000  3.681600e+04  3.681600e+04  36816.000000   \n",
       "mean       2.771609      3.116934  3.591418e+00  3.490604e+00      2.950611   \n",
       "std        6.051221      6.466975  7.392305e+00  7.076361e+00      7.074549   \n",
       "min        0.000000      0.000000 -3.479596e-18 -3.186177e-19      0.000000   \n",
       "25%        0.002370      0.138181  8.941694e-02  9.016145e-02      0.022656   \n",
       "50%        0.295341      0.643671  8.435672e-01  8.216741e-01      0.348699   \n",
       "75%        2.508854      3.219543  3.724556e+00  3.630505e+00      2.615149   \n",
       "max       87.134722    124.952390  1.401478e+02  1.375916e+02    135.569753   \n",
       "\n",
       "       EC-Earth3-Veg-LR  ...        MIROC6  MPI-ESM-1-2-HAM  MPI-ESM1-2-HR  \\\n",
       "count      3.681600e+04  ...  3.681600e+04     3.681600e+04   3.681600e+04   \n",
       "mean       2.559451e+00  ...  3.095043e+00     3.175946e+00   1.328797e+00   \n",
       "std        5.739063e+00  ...  7.728605e+00     6.883672e+00   4.955151e+00   \n",
       "min       -9.934637e-19  ...  1.044483e-31     3.315622e-13   1.089808e-13   \n",
       "25%        1.192093e-02  ...  1.873953e-02     1.005828e-04   1.270362e-13   \n",
       "50%        4.261732e-01  ...  3.512424e-01     2.054757e-01   1.752656e-03   \n",
       "75%        2.294516e+00  ...  2.306289e+00     2.685723e+00   3.616506e-01   \n",
       "max        1.342262e+02  ...  1.671499e+02     9.306766e+01   1.095008e+02   \n",
       "\n",
       "       MPI-ESM1-2-LR    MRI-ESM2-0         NESM3    NorESM2-LM    NorESM2-MM  \\\n",
       "count   3.681600e+04  3.681600e+04  3.681600e+04  36816.000000  36816.000000   \n",
       "mean    2.048747e+00  1.536491e+00  1.752144e+00      2.451512      2.909697   \n",
       "std     5.375858e+00  4.993425e+00  4.937174e+00      5.796878      7.173033   \n",
       "min     9.155419e-14  9.479186e-33  1.426891e-13      0.000000      0.000000   \n",
       "25%     1.352331e-13  5.353678e-05  1.862711e-13      0.005547      0.010028   \n",
       "50%     1.146820e-01  3.193842e-02  5.167065e-02      0.167970      0.256126   \n",
       "75%     1.183620e+00  6.686751e-01  7.920023e-01      1.819091      2.502725   \n",
       "max     8.005998e+01  1.016900e+02  8.045783e+01    103.367212    163.164524   \n",
       "\n",
       "        SAM0-UNICON       TaiESM1  \n",
       "count  3.681600e+04  3.681600e+04  \n",
       "mean   3.391212e+00  3.403765e+00  \n",
       "std    7.960724e+00  7.525256e+00  \n",
       "min   -3.604673e-17 -2.148475e-14  \n",
       "25%    3.754041e-02  4.883792e-02  \n",
       "50%    6.540263e-01  6.658721e-01  \n",
       "75%    3.271716e+00  3.217312e+00  \n",
       "max    1.549718e+02  1.673562e+02  \n",
       "\n",
       "[8 rows x 25 columns]"
      ]
     },
     "execution_count": 5,
     "metadata": {},
     "output_type": "execute_result"
    }
   ],
   "source": [
    "# Step 4: Carry out EDA of our choice on the train split\n",
    "X_train.describe()"
   ]
  },
  {
   "cell_type": "code",
   "execution_count": 6,
   "metadata": {},
   "outputs": [
    {
     "data": {
      "text/plain": [
       "count    36816.000000\n",
       "mean         2.736204\n",
       "std          8.108492\n",
       "min          0.000000\n",
       "25%          0.008082\n",
       "50%          0.164671\n",
       "75%          1.652147\n",
       "max        192.933030\n",
       "Name: observed_rainfall, dtype: float64"
      ]
     },
     "execution_count": 6,
     "metadata": {},
     "output_type": "execute_result"
    }
   ],
   "source": [
    "y_train.describe()"
   ]
  },
  {
   "cell_type": "code",
   "execution_count": 7,
   "metadata": {},
   "outputs": [
    {
     "data": {
      "text/plain": [
       "RandomForestRegressor(n_jobs=-1, random_state=123)"
      ]
     },
     "execution_count": 7,
     "metadata": {},
     "output_type": "execute_result"
    }
   ],
   "source": [
    "# Step 5: Train ensemble machine learning model using RandomForestRegressor\n",
    "# We chose to evalutate on RMSE metric\n",
    "model = RandomForestRegressor(criterion='mse', random_state=123, n_jobs=-1)\n",
    "model.fit(X_train, y_train)"
   ]
  },
  {
   "cell_type": "code",
   "execution_count": 8,
   "metadata": {},
   "outputs": [
    {
     "data": {
      "text/plain": [
       "array([4.41141222, 3.30595151, 3.55104322, ..., 1.08873845, 2.40564656,\n",
       "       4.23071184])"
      ]
     },
     "execution_count": 8,
     "metadata": {},
     "output_type": "execute_result"
    }
   ],
   "source": [
    "pred = model.predict(X_test)\n",
    "pred"
   ]
  },
  {
   "cell_type": "code",
   "execution_count": 9,
   "metadata": {},
   "outputs": [
    {
     "data": {
      "text/plain": [
       "8.73168482300724"
      ]
     },
     "execution_count": 9,
     "metadata": {},
     "output_type": "execute_result"
    }
   ],
   "source": [
    "rmse = mean_squared_error(y_test, pred, squared=False)\n",
    "rmse"
   ]
  },
  {
   "cell_type": "code",
   "execution_count": 10,
   "metadata": {},
   "outputs": [
    {
     "data": {
      "text/plain": [
       "{'ACCESS-CM2': 10.764463280409297,\n",
       " 'ACCESS-ESM1-5': 10.846550490025752,\n",
       " 'AWI-ESM-1-1-LR': 11.18712359703712,\n",
       " 'BCC-CSM2-MR': 10.796497068583623,\n",
       " 'BCC-ESM1': 10.432163671907844,\n",
       " 'CMCC-CM2-HR4': 10.56494458356347,\n",
       " 'CMCC-CM2-SR5': 11.285054457979179,\n",
       " 'CMCC-ESM2': 11.129110641875158,\n",
       " 'CanESM5': 10.6384880201457,\n",
       " 'EC-Earth3-Veg-LR': 10.298655489422481,\n",
       " 'FGOALS-g3': 9.565204988737806,\n",
       " 'GFDL-CM4': 10.400779732820741,\n",
       " 'INM-CM4-8': 11.691141311221779,\n",
       " 'INM-CM5-0': 12.060185621540278,\n",
       " 'KIOST-ESM': 9.409771409376939,\n",
       " 'MIROC6': 11.498469722391727,\n",
       " 'MPI-ESM-1-2-HAM': 11.042786788847769,\n",
       " 'MPI-ESM1-2-HR': 9.770185835104554,\n",
       " 'MPI-ESM1-2-LR': 10.053474074574387,\n",
       " 'MRI-ESM2-0': 9.844214758267789,\n",
       " 'NESM3': 9.694444444949722,\n",
       " 'NorESM2-LM': 10.331408116735595,\n",
       " 'NorESM2-MM': 10.659912320443588,\n",
       " 'SAM0-UNICON': 11.527239676095723,\n",
       " 'TaiESM1': 11.4725463436798}"
      ]
     },
     "execution_count": 10,
     "metadata": {},
     "output_type": "execute_result"
    }
   ],
   "source": [
    "# Step 6: Discuss results\n",
    "# RMSE for the individual climate models\n",
    "rmse = {}\n",
    "for col in X_test.columns:\n",
    "    rmse[col] = mean_squared_error(y_test, X_test[col], squared=False)\n",
    "rmse"
   ]
  },
  {
   "cell_type": "markdown",
   "metadata": {},
   "source": [
    "Yes, we are getting better results with ensemble models compared to the individual climate models as we can see that individual climate models have greater RMSEs than the ensemble model."
   ]
  },
  {
   "cell_type": "markdown",
   "metadata": {},
   "source": [
    "## Part 2:"
   ]
  },
  {
   "cell_type": "markdown",
   "metadata": {},
   "source": [
    "### Preparation for deploying model next week"
   ]
  },
  {
   "cell_type": "markdown",
   "metadata": {},
   "source": [
    "#### Complete task 4 from the milestone3 before coming here"
   ]
  },
  {
   "cell_type": "markdown",
   "metadata": {},
   "source": [
    "We’ve found ```n_estimators=100, max_depth=5``` to be the best hyperparameter settings with MLlib (from the task 4 from milestone3), here we then use the same hyperparameters to train a scikit-learn model. "
   ]
  },
  {
   "cell_type": "code",
   "execution_count": 14,
   "metadata": {},
   "outputs": [
    {
     "data": {
      "text/plain": [
       "RandomForestRegressor(max_depth=5)"
      ]
     },
     "execution_count": 14,
     "metadata": {},
     "output_type": "execute_result"
    }
   ],
   "source": [
    "model = RandomForestRegressor(n_estimators=100, max_depth=5, bootstrap=True)\n",
    "model.fit(X_train, y_train)"
   ]
  },
  {
   "cell_type": "code",
   "execution_count": 15,
   "metadata": {},
   "outputs": [
    {
     "name": "stdout",
     "output_type": "stream",
     "text": [
      "Train RMSE: 7.92\n",
      " Test RMSE: 8.51\n"
     ]
    }
   ],
   "source": [
    "print(f\"Train RMSE: {mean_squared_error(y_train, model.predict(X_train), squared=False):.2f}\")\n",
    "print(f\" Test RMSE: {mean_squared_error(y_test, model.predict(X_test), squared=False):.2f}\")"
   ]
  },
  {
   "cell_type": "code",
   "execution_count": 16,
   "metadata": {},
   "outputs": [
    {
     "data": {
      "text/plain": [
       "['model.joblib']"
      ]
     },
     "execution_count": 16,
     "metadata": {},
     "output_type": "execute_result"
    }
   ],
   "source": [
    "# ready to deploy\n",
    "dump(model, \"model.joblib\")"
   ]
  },
  {
   "cell_type": "markdown",
   "metadata": {},
   "source": [
    "***Upload model.joblib to s3. You choose how you want to upload it.***"
   ]
  }
 ],
 "metadata": {
  "kernelspec": {
   "display_name": "Python 3",
   "language": "python",
   "name": "python3"
  },
  "language_info": {
   "codemirror_mode": {
    "name": "ipython",
    "version": 3
   },
   "file_extension": ".py",
   "mimetype": "text/x-python",
   "name": "python",
   "nbconvert_exporter": "python",
   "pygments_lexer": "ipython3",
   "version": "3.8.8"
  }
 },
 "nbformat": 4,
 "nbformat_minor": 4
}
