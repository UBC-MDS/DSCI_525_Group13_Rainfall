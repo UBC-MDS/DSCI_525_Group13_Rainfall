{
 "cells": [
  {
   "cell_type": "markdown",
   "id": "golden-detroit",
   "metadata": {},
   "source": [
    "# DSCI 525: Web and Cloud Computing\n",
    "\n",
    "## Milestone 1: Tackling Big Data on Computer\n",
    "\n",
    "### Group 13\n",
    "Authors: Ivy Zhang, Mike Lynch, Selma Duric, William Xu"
   ]
  },
  {
   "cell_type": "markdown",
   "id": "experimental-flood",
   "metadata": {},
   "source": [
    "## Table of contents\n",
    "\n",
    "- [Download the data](#1)\n",
    "- [Combining data CSVs](#2)\n",
    "- [Load the combined CSV to memory and perform a simple EDA](#3)\n",
    "- [Perform a simple EDA in R](#4)\n",
    "- [Reflection](#5)"
   ]
  },
  {
   "cell_type": "markdown",
   "id": "coral-fetish",
   "metadata": {},
   "source": [
    "### Imports"
   ]
  },
  {
   "cell_type": "code",
   "execution_count": 1,
   "id": "every-cedar",
   "metadata": {},
   "outputs": [],
   "source": [
    "import re\n",
    "import os\n",
    "import glob\n",
    "import zipfile\n",
    "import requests\n",
    "from urllib.request import urlretrieve\n",
    "import json\n",
    "import pandas as pd\n",
    "import numpy as np\n",
    "import pyarrow.feather as feather\n",
    "from memory_profiler import memory_usage\n",
    "import pyarrow.dataset as ds\n",
    "import pyarrow as pa\n",
    "import pyarrow.parquet as pq\n",
    "import dask.dataframe as dd"
   ]
  },
  {
   "cell_type": "code",
   "execution_count": 2,
   "id": "sudden-guidance",
   "metadata": {},
   "outputs": [],
   "source": [
    "%load_ext rpy2.ipython\n",
    "%load_ext memory_profiler"
   ]
  },
  {
   "cell_type": "markdown",
   "id": "headed-terrorist",
   "metadata": {},
   "source": [
    "## 1. Download the data <a name=\"1\"></a>"
   ]
  },
  {
   "cell_type": "markdown",
   "id": "suitable-easter",
   "metadata": {},
   "source": [
    "1. Download the data from figshare to local computer using the figshare API.\n",
    "2. Extract the zip file programmatically."
   ]
  },
  {
   "cell_type": "code",
   "execution_count": 3,
   "id": "electronic-realtor",
   "metadata": {},
   "outputs": [],
   "source": [
    "# Attribution: DSCI 525 lecture notebook\n",
    "# Necessary metadata\n",
    "article_id = 14096681  # unique identifier of the article on figshare\n",
    "url = f\"https://api.figshare.com/v2/articles/{article_id}\"\n",
    "headers = {\"Content-Type\": \"application/json\"}\n",
    "output_directory = \"figsharerainfall/\""
   ]
  },
  {
   "cell_type": "code",
   "execution_count": 4,
   "id": "military-maker",
   "metadata": {},
   "outputs": [],
   "source": [
    "response = requests.request(\"GET\", url, headers=headers)\n",
    "data = json.loads(response.text)\n",
    "files = data[\"files\"]    "
   ]
  },
  {
   "cell_type": "code",
   "execution_count": 5,
   "id": "functioning-lottery",
   "metadata": {},
   "outputs": [
    {
     "name": "stdout",
     "output_type": "stream",
     "text": [
      "CPU times: user 4.99 s, sys: 5.06 s, total: 10.1 s\n",
      "Wall time: 1min 44s\n"
     ]
    }
   ],
   "source": [
    "%%time\n",
    "files_to_dl = [\"data.zip\"]  \n",
    "for file in files:\n",
    "    if file[\"name\"] in files_to_dl:\n",
    "        os.makedirs(output_directory, exist_ok=True)\n",
    "        urlretrieve(file[\"download_url\"], output_directory + file[\"name\"])"
   ]
  },
  {
   "cell_type": "code",
   "execution_count": 6,
   "id": "fallen-pepper",
   "metadata": {},
   "outputs": [
    {
     "name": "stdout",
     "output_type": "stream",
     "text": [
      "CPU times: user 19 s, sys: 5.1 s, total: 24.1 s\n",
      "Wall time: 32.7 s\n"
     ]
    }
   ],
   "source": [
    "%%time\n",
    "with zipfile.ZipFile(os.path.join(output_directory, \"data.zip\"), 'r') as f:\n",
    "    f.extractall(output_directory)"
   ]
  },
  {
   "cell_type": "markdown",
   "id": "specific-evolution",
   "metadata": {},
   "source": [
    "## 2. Combining data CSVs <a name=\"2\"></a>"
   ]
  },
  {
   "cell_type": "markdown",
   "id": "bizarre-participation",
   "metadata": {},
   "source": [
    "1. Use one of the following options to combine data CSVs into a single CSV (Pandas, Dask). **We used the option of Pandas**.\n",
    "2. When combining the csv files, we added extra column called \"model\" that identifies the model (we get this column populated from the file name eg: for file name \"SAM0-UNICON_daily_rainfall_NSW.csv\", the model name is SAM0-UNICON)\n",
    "3. Compare run times and memory usages of these options on different machines within the team, and summarize observations."
   ]
  },
  {
   "cell_type": "code",
   "execution_count": 7,
   "id": "peaceful-differential",
   "metadata": {},
   "outputs": [
    {
     "name": "stdout",
     "output_type": "stream",
     "text": [
      "peak memory: 171.71 MiB, increment: 0.05 MiB\n",
      "CPU times: user 7min 14s, sys: 30.9 s, total: 7min 45s\n",
      "Wall time: 8min 11s\n"
     ]
    }
   ],
   "source": [
    "%%time\n",
    "%memit\n",
    "# Shows time that regular python takes to merge file\n",
    "# Join all data together\n",
    "## here we are using a normal python way of merging the data \n",
    "# use_cols = [\"time\", \"lat_min\", \"lat_max\", \"lon_min\",\"lon_max\",\"rain (mm/day)\"]\n",
    "files = glob.glob('figsharerainfall/*.csv')\n",
    "df = pd.concat((pd.read_csv(file, index_col=0)\n",
    "                .assign(model=re.findall(r'^[^_]+(?=_)', file)[0])\n",
    "                for file in files)\n",
    "              )\n",
    "df.to_csv(\"figsharerainfall/combined_data.csv\")"
   ]
  },
  {
   "cell_type": "code",
   "execution_count": 8,
   "id": "married-looking",
   "metadata": {},
   "outputs": [
    {
     "name": "stdout",
     "output_type": "stream",
     "text": [
      "CPU times: user 1min 10s, sys: 26 s, total: 1min 36s\n",
      "Wall time: 1min 46s\n"
     ]
    }
   ],
   "source": [
    "%%time\n",
    "df = pd.read_csv(\"figsharerainfall/combined_data.csv\")"
   ]
  },
  {
   "cell_type": "code",
   "execution_count": 9,
   "id": "acquired-plastic",
   "metadata": {},
   "outputs": [
    {
     "name": "stdout",
     "output_type": "stream",
     "text": [
      "(62513863, 7)\n"
     ]
    }
   ],
   "source": [
    "print(df.shape)"
   ]
  },
  {
   "cell_type": "code",
   "execution_count": 10,
   "id": "simple-diary",
   "metadata": {},
   "outputs": [
    {
     "data": {
      "text/html": [
       "<div>\n",
       "<style scoped>\n",
       "    .dataframe tbody tr th:only-of-type {\n",
       "        vertical-align: middle;\n",
       "    }\n",
       "\n",
       "    .dataframe tbody tr th {\n",
       "        vertical-align: top;\n",
       "    }\n",
       "\n",
       "    .dataframe thead th {\n",
       "        text-align: right;\n",
       "    }\n",
       "</style>\n",
       "<table border=\"1\" class=\"dataframe\">\n",
       "  <thead>\n",
       "    <tr style=\"text-align: right;\">\n",
       "      <th></th>\n",
       "      <th>time</th>\n",
       "      <th>lat_min</th>\n",
       "      <th>lat_max</th>\n",
       "      <th>lon_min</th>\n",
       "      <th>lon_max</th>\n",
       "      <th>rain (mm/day)</th>\n",
       "      <th>model</th>\n",
       "    </tr>\n",
       "  </thead>\n",
       "  <tbody>\n",
       "    <tr>\n",
       "      <th>0</th>\n",
       "      <td>1889-01-01 12:00:00</td>\n",
       "      <td>-35.439867</td>\n",
       "      <td>-33.574619</td>\n",
       "      <td>141.5625</td>\n",
       "      <td>143.4375</td>\n",
       "      <td>4.244226e-13</td>\n",
       "      <td>figsharerainfall/MPI-ESM-1-2-HAM</td>\n",
       "    </tr>\n",
       "    <tr>\n",
       "      <th>1</th>\n",
       "      <td>1889-01-02 12:00:00</td>\n",
       "      <td>-35.439867</td>\n",
       "      <td>-33.574619</td>\n",
       "      <td>141.5625</td>\n",
       "      <td>143.4375</td>\n",
       "      <td>4.217326e-13</td>\n",
       "      <td>figsharerainfall/MPI-ESM-1-2-HAM</td>\n",
       "    </tr>\n",
       "    <tr>\n",
       "      <th>2</th>\n",
       "      <td>1889-01-03 12:00:00</td>\n",
       "      <td>-35.439867</td>\n",
       "      <td>-33.574619</td>\n",
       "      <td>141.5625</td>\n",
       "      <td>143.4375</td>\n",
       "      <td>4.498125e-13</td>\n",
       "      <td>figsharerainfall/MPI-ESM-1-2-HAM</td>\n",
       "    </tr>\n",
       "    <tr>\n",
       "      <th>3</th>\n",
       "      <td>1889-01-04 12:00:00</td>\n",
       "      <td>-35.439867</td>\n",
       "      <td>-33.574619</td>\n",
       "      <td>141.5625</td>\n",
       "      <td>143.4375</td>\n",
       "      <td>4.251282e-13</td>\n",
       "      <td>figsharerainfall/MPI-ESM-1-2-HAM</td>\n",
       "    </tr>\n",
       "    <tr>\n",
       "      <th>4</th>\n",
       "      <td>1889-01-05 12:00:00</td>\n",
       "      <td>-35.439867</td>\n",
       "      <td>-33.574619</td>\n",
       "      <td>141.5625</td>\n",
       "      <td>143.4375</td>\n",
       "      <td>4.270161e-13</td>\n",
       "      <td>figsharerainfall/MPI-ESM-1-2-HAM</td>\n",
       "    </tr>\n",
       "  </tbody>\n",
       "</table>\n",
       "</div>"
      ],
      "text/plain": [
       "                  time    lat_min    lat_max   lon_min   lon_max  \\\n",
       "0  1889-01-01 12:00:00 -35.439867 -33.574619  141.5625  143.4375   \n",
       "1  1889-01-02 12:00:00 -35.439867 -33.574619  141.5625  143.4375   \n",
       "2  1889-01-03 12:00:00 -35.439867 -33.574619  141.5625  143.4375   \n",
       "3  1889-01-04 12:00:00 -35.439867 -33.574619  141.5625  143.4375   \n",
       "4  1889-01-05 12:00:00 -35.439867 -33.574619  141.5625  143.4375   \n",
       "\n",
       "   rain (mm/day)                             model  \n",
       "0   4.244226e-13  figsharerainfall/MPI-ESM-1-2-HAM  \n",
       "1   4.217326e-13  figsharerainfall/MPI-ESM-1-2-HAM  \n",
       "2   4.498125e-13  figsharerainfall/MPI-ESM-1-2-HAM  \n",
       "3   4.251282e-13  figsharerainfall/MPI-ESM-1-2-HAM  \n",
       "4   4.270161e-13  figsharerainfall/MPI-ESM-1-2-HAM  "
      ]
     },
     "execution_count": 10,
     "metadata": {},
     "output_type": "execute_result"
    }
   ],
   "source": [
    "df.head()"
   ]
  },
  {
   "cell_type": "markdown",
   "id": "ignored-prison",
   "metadata": {},
   "source": [
    "**Summary of run times and memory usages:**\n",
    "\n",
    "***William***\n",
    "- Combining files: \n",
    "    - peak memory: 95.41 MiB, increment: 0.26 MiB\n",
    "    - CPU times: user 7min 28s, sys: 31 s, total: 7min 59s\n",
    "    - Wall time: 9min 17s\n",
    "- Reading the combined file:\n",
    "    - Wall time: 1min 51s\n",
    "\n",
    "***Mike***\n",
    "- Combining files: \n",
    "    - peak memory: 168.59 MiB, increment: 0.12 MiB\n",
    "    - CPU times: user 3min 29s, sys: 5.09 s, total: 3min 34s\n",
    "    - Wall time: 3min 34s\n",
    "- Reading the combined file:\n",
    "    - Wall time: 37.1 s\n",
    "\n",
    "***Selma***\n",
    "- Combining files: \n",
    "    - peak memory: 150.54 MiB, increment: 0.23 MiB\n",
    "    - CPU times: user 6min 46s, sys: 23.1 s, total: 7min 9s\n",
    "    - Wall time: 7min 29s\n",
    "- Reading the combined file:\n",
    "    - Wall time: 1min 19s\n",
    "    \n",
    "***Ivy***\n",
    "- Combining files: \n",
    "    - peak memory: 156.23 MiB, increment: 0.00 MiB\n",
    "    - CPU times: user 5min 14s, sys: 18.2 s, total: 5min 32s\n",
    "    - Wall time: 5min 45s\n",
    "- Reading the combined file:\n",
    "    - Wall time: 1min 30s"
   ]
  },
  {
   "cell_type": "markdown",
   "id": "complicated-mouse",
   "metadata": {},
   "source": [
    "## 3. Load the combined CSV to memory and perform a simple EDA <a name=\"3\"></a>"
   ]
  },
  {
   "cell_type": "markdown",
   "id": "relevant-lighter",
   "metadata": {},
   "source": [
    "### Establish a baseline for memory usage"
   ]
  },
  {
   "cell_type": "code",
   "execution_count": 11,
   "id": "recreational-projection",
   "metadata": {},
   "outputs": [
    {
     "data": {
      "text/html": [
       "<div>\n",
       "<style scoped>\n",
       "    .dataframe tbody tr th:only-of-type {\n",
       "        vertical-align: middle;\n",
       "    }\n",
       "\n",
       "    .dataframe tbody tr th {\n",
       "        vertical-align: top;\n",
       "    }\n",
       "\n",
       "    .dataframe thead th {\n",
       "        text-align: right;\n",
       "    }\n",
       "</style>\n",
       "<table border=\"1\" class=\"dataframe\">\n",
       "  <thead>\n",
       "    <tr style=\"text-align: right;\">\n",
       "      <th></th>\n",
       "      <th>lat_min</th>\n",
       "      <th>lat_max</th>\n",
       "      <th>lon_min</th>\n",
       "      <th>lon_max</th>\n",
       "      <th>rain (mm/day)</th>\n",
       "      <th>model</th>\n",
       "    </tr>\n",
       "    <tr>\n",
       "      <th>time</th>\n",
       "      <th></th>\n",
       "      <th></th>\n",
       "      <th></th>\n",
       "      <th></th>\n",
       "      <th></th>\n",
       "      <th></th>\n",
       "    </tr>\n",
       "  </thead>\n",
       "  <tbody>\n",
       "    <tr>\n",
       "      <th>1889-01-01 12:00:00</th>\n",
       "      <td>-35.439867</td>\n",
       "      <td>-33.574619</td>\n",
       "      <td>141.5625</td>\n",
       "      <td>143.4375</td>\n",
       "      <td>4.244226e-13</td>\n",
       "      <td>figsharerainfall/MPI-ESM-1-2-HAM</td>\n",
       "    </tr>\n",
       "    <tr>\n",
       "      <th>1889-01-02 12:00:00</th>\n",
       "      <td>-35.439867</td>\n",
       "      <td>-33.574619</td>\n",
       "      <td>141.5625</td>\n",
       "      <td>143.4375</td>\n",
       "      <td>4.217326e-13</td>\n",
       "      <td>figsharerainfall/MPI-ESM-1-2-HAM</td>\n",
       "    </tr>\n",
       "    <tr>\n",
       "      <th>1889-01-03 12:00:00</th>\n",
       "      <td>-35.439867</td>\n",
       "      <td>-33.574619</td>\n",
       "      <td>141.5625</td>\n",
       "      <td>143.4375</td>\n",
       "      <td>4.498125e-13</td>\n",
       "      <td>figsharerainfall/MPI-ESM-1-2-HAM</td>\n",
       "    </tr>\n",
       "    <tr>\n",
       "      <th>1889-01-04 12:00:00</th>\n",
       "      <td>-35.439867</td>\n",
       "      <td>-33.574619</td>\n",
       "      <td>141.5625</td>\n",
       "      <td>143.4375</td>\n",
       "      <td>4.251282e-13</td>\n",
       "      <td>figsharerainfall/MPI-ESM-1-2-HAM</td>\n",
       "    </tr>\n",
       "    <tr>\n",
       "      <th>1889-01-05 12:00:00</th>\n",
       "      <td>-35.439867</td>\n",
       "      <td>-33.574619</td>\n",
       "      <td>141.5625</td>\n",
       "      <td>143.4375</td>\n",
       "      <td>4.270161e-13</td>\n",
       "      <td>figsharerainfall/MPI-ESM-1-2-HAM</td>\n",
       "    </tr>\n",
       "  </tbody>\n",
       "</table>\n",
       "</div>"
      ],
      "text/plain": [
       "                       lat_min    lat_max   lon_min   lon_max  rain (mm/day)  \\\n",
       "time                                                                           \n",
       "1889-01-01 12:00:00 -35.439867 -33.574619  141.5625  143.4375   4.244226e-13   \n",
       "1889-01-02 12:00:00 -35.439867 -33.574619  141.5625  143.4375   4.217326e-13   \n",
       "1889-01-03 12:00:00 -35.439867 -33.574619  141.5625  143.4375   4.498125e-13   \n",
       "1889-01-04 12:00:00 -35.439867 -33.574619  141.5625  143.4375   4.251282e-13   \n",
       "1889-01-05 12:00:00 -35.439867 -33.574619  141.5625  143.4375   4.270161e-13   \n",
       "\n",
       "                                                model  \n",
       "time                                                   \n",
       "1889-01-01 12:00:00  figsharerainfall/MPI-ESM-1-2-HAM  \n",
       "1889-01-02 12:00:00  figsharerainfall/MPI-ESM-1-2-HAM  \n",
       "1889-01-03 12:00:00  figsharerainfall/MPI-ESM-1-2-HAM  \n",
       "1889-01-04 12:00:00  figsharerainfall/MPI-ESM-1-2-HAM  \n",
       "1889-01-05 12:00:00  figsharerainfall/MPI-ESM-1-2-HAM  "
      ]
     },
     "execution_count": 11,
     "metadata": {},
     "output_type": "execute_result"
    }
   ],
   "source": [
    "# First load in the dataset using default settings for dtypes\n",
    "df_eda = pd.read_csv(\"figsharerainfall/combined_data.csv\", parse_dates=True, index_col='time')\n",
    "df_eda.head()"
   ]
  },
  {
   "cell_type": "code",
   "execution_count": 12,
   "id": "broadband-neighborhood",
   "metadata": {},
   "outputs": [
    {
     "data": {
      "text/plain": [
       "lat_min          float64\n",
       "lat_max          float64\n",
       "lon_min          float64\n",
       "lon_max          float64\n",
       "rain (mm/day)    float64\n",
       "model             object\n",
       "dtype: object"
      ]
     },
     "execution_count": 12,
     "metadata": {},
     "output_type": "execute_result"
    }
   ],
   "source": [
    "# As we can see below, dtypes are float64 and object\n",
    "df_eda.dtypes"
   ]
  },
  {
   "cell_type": "code",
   "execution_count": 13,
   "id": "deadly-armor",
   "metadata": {},
   "outputs": [
    {
     "name": "stdout",
     "output_type": "stream",
     "text": [
      "Memory usage with float64: 3500.78 MB\n"
     ]
    }
   ],
   "source": [
    "# Measure the memory usage when representing numbers using float64 dtype\n",
    "print(f\"Memory usage with float64: {df_eda.memory_usage().sum() / 1e6:.2f} MB\")"
   ]
  },
  {
   "cell_type": "code",
   "execution_count": 14,
   "id": "material-easter",
   "metadata": {},
   "outputs": [
    {
     "name": "stdout",
     "output_type": "stream",
     "text": [
      "peak memory: 698.22 MiB, increment: 0.35 MiB\n",
      "CPU times: user 16.2 s, sys: 13.8 s, total: 30 s\n",
      "Wall time: 36.5 s\n"
     ]
    },
    {
     "data": {
      "text/html": [
       "<div>\n",
       "<style scoped>\n",
       "    .dataframe tbody tr th:only-of-type {\n",
       "        vertical-align: middle;\n",
       "    }\n",
       "\n",
       "    .dataframe tbody tr th {\n",
       "        vertical-align: top;\n",
       "    }\n",
       "\n",
       "    .dataframe thead th {\n",
       "        text-align: right;\n",
       "    }\n",
       "</style>\n",
       "<table border=\"1\" class=\"dataframe\">\n",
       "  <thead>\n",
       "    <tr style=\"text-align: right;\">\n",
       "      <th></th>\n",
       "      <th>lat_min</th>\n",
       "      <th>lat_max</th>\n",
       "      <th>lon_min</th>\n",
       "      <th>lon_max</th>\n",
       "      <th>rain (mm/day)</th>\n",
       "    </tr>\n",
       "  </thead>\n",
       "  <tbody>\n",
       "    <tr>\n",
       "      <th>count</th>\n",
       "      <td>5.924854e+07</td>\n",
       "      <td>6.246784e+07</td>\n",
       "      <td>5.924854e+07</td>\n",
       "      <td>6.246784e+07</td>\n",
       "      <td>5.929456e+07</td>\n",
       "    </tr>\n",
       "    <tr>\n",
       "      <th>mean</th>\n",
       "      <td>-3.310482e+01</td>\n",
       "      <td>-3.197757e+01</td>\n",
       "      <td>1.469059e+02</td>\n",
       "      <td>1.482150e+02</td>\n",
       "      <td>1.901827e+00</td>\n",
       "    </tr>\n",
       "    <tr>\n",
       "      <th>std</th>\n",
       "      <td>1.963549e+00</td>\n",
       "      <td>1.992067e+00</td>\n",
       "      <td>3.793784e+00</td>\n",
       "      <td>3.809994e+00</td>\n",
       "      <td>5.588275e+00</td>\n",
       "    </tr>\n",
       "    <tr>\n",
       "      <th>min</th>\n",
       "      <td>-3.646739e+01</td>\n",
       "      <td>-3.600000e+01</td>\n",
       "      <td>1.406250e+02</td>\n",
       "      <td>1.412500e+02</td>\n",
       "      <td>-3.807373e-12</td>\n",
       "    </tr>\n",
       "    <tr>\n",
       "      <th>25%</th>\n",
       "      <td>-3.486911e+01</td>\n",
       "      <td>-3.366221e+01</td>\n",
       "      <td>1.434375e+02</td>\n",
       "      <td>1.450000e+02</td>\n",
       "      <td>3.876672e-06</td>\n",
       "    </tr>\n",
       "    <tr>\n",
       "      <th>50%</th>\n",
       "      <td>-3.300000e+01</td>\n",
       "      <td>-3.204188e+01</td>\n",
       "      <td>1.468750e+02</td>\n",
       "      <td>1.481250e+02</td>\n",
       "      <td>6.161705e-02</td>\n",
       "    </tr>\n",
       "    <tr>\n",
       "      <th>75%</th>\n",
       "      <td>-3.140170e+01</td>\n",
       "      <td>-3.015707e+01</td>\n",
       "      <td>1.501875e+02</td>\n",
       "      <td>1.513125e+02</td>\n",
       "      <td>1.021314e+00</td>\n",
       "    </tr>\n",
       "    <tr>\n",
       "      <th>max</th>\n",
       "      <td>-2.990000e+01</td>\n",
       "      <td>-2.790606e+01</td>\n",
       "      <td>1.537500e+02</td>\n",
       "      <td>1.556250e+02</td>\n",
       "      <td>4.329395e+02</td>\n",
       "    </tr>\n",
       "  </tbody>\n",
       "</table>\n",
       "</div>"
      ],
      "text/plain": [
       "            lat_min       lat_max       lon_min       lon_max  rain (mm/day)\n",
       "count  5.924854e+07  6.246784e+07  5.924854e+07  6.246784e+07   5.929456e+07\n",
       "mean  -3.310482e+01 -3.197757e+01  1.469059e+02  1.482150e+02   1.901827e+00\n",
       "std    1.963549e+00  1.992067e+00  3.793784e+00  3.809994e+00   5.588275e+00\n",
       "min   -3.646739e+01 -3.600000e+01  1.406250e+02  1.412500e+02  -3.807373e-12\n",
       "25%   -3.486911e+01 -3.366221e+01  1.434375e+02  1.450000e+02   3.876672e-06\n",
       "50%   -3.300000e+01 -3.204188e+01  1.468750e+02  1.481250e+02   6.161705e-02\n",
       "75%   -3.140170e+01 -3.015707e+01  1.501875e+02  1.513125e+02   1.021314e+00\n",
       "max   -2.990000e+01 -2.790606e+01  1.537500e+02  1.556250e+02   4.329395e+02"
      ]
     },
     "execution_count": 14,
     "metadata": {},
     "output_type": "execute_result"
    }
   ],
   "source": [
    "%%time\n",
    "%memit\n",
    "\n",
    "# Now perform a simple EDA with pandas describe function\n",
    "df_eda.describe()"
   ]
  },
  {
   "cell_type": "markdown",
   "id": "standard-stack",
   "metadata": {},
   "source": [
    "Baseline memory and time data:\n",
    "- Memory usage with float64: 3500.78 MB\n",
    "- peak memory: 698.22 MiB, increment: 0.35 MiB\n",
    "- CPU times: user 16.2 s, sys: 13.8 s, total: 30 s\n",
    "- Wall time: 36.5 s"
   ]
  },
  {
   "cell_type": "markdown",
   "id": "lesbian-slovenia",
   "metadata": {},
   "source": [
    "### Effects of changing dtypes on memory usage"
   ]
  },
  {
   "cell_type": "code",
   "execution_count": 15,
   "id": "white-terrorism",
   "metadata": {},
   "outputs": [
    {
     "data": {
      "text/html": [
       "<div>\n",
       "<style scoped>\n",
       "    .dataframe tbody tr th:only-of-type {\n",
       "        vertical-align: middle;\n",
       "    }\n",
       "\n",
       "    .dataframe tbody tr th {\n",
       "        vertical-align: top;\n",
       "    }\n",
       "\n",
       "    .dataframe thead th {\n",
       "        text-align: right;\n",
       "    }\n",
       "</style>\n",
       "<table border=\"1\" class=\"dataframe\">\n",
       "  <thead>\n",
       "    <tr style=\"text-align: right;\">\n",
       "      <th></th>\n",
       "      <th>lat_min</th>\n",
       "      <th>lat_max</th>\n",
       "      <th>lon_min</th>\n",
       "      <th>lon_max</th>\n",
       "      <th>rain (mm/day)</th>\n",
       "      <th>model</th>\n",
       "    </tr>\n",
       "    <tr>\n",
       "      <th>time</th>\n",
       "      <th></th>\n",
       "      <th></th>\n",
       "      <th></th>\n",
       "      <th></th>\n",
       "      <th></th>\n",
       "      <th></th>\n",
       "    </tr>\n",
       "  </thead>\n",
       "  <tbody>\n",
       "    <tr>\n",
       "      <th>1889-01-01 12:00:00</th>\n",
       "      <td>-35.439865</td>\n",
       "      <td>-33.574619</td>\n",
       "      <td>141.5625</td>\n",
       "      <td>143.4375</td>\n",
       "      <td>4.244226e-13</td>\n",
       "      <td>figsharerainfall/MPI-ESM-1-2-HAM</td>\n",
       "    </tr>\n",
       "    <tr>\n",
       "      <th>1889-01-02 12:00:00</th>\n",
       "      <td>-35.439865</td>\n",
       "      <td>-33.574619</td>\n",
       "      <td>141.5625</td>\n",
       "      <td>143.4375</td>\n",
       "      <td>4.217326e-13</td>\n",
       "      <td>figsharerainfall/MPI-ESM-1-2-HAM</td>\n",
       "    </tr>\n",
       "    <tr>\n",
       "      <th>1889-01-03 12:00:00</th>\n",
       "      <td>-35.439865</td>\n",
       "      <td>-33.574619</td>\n",
       "      <td>141.5625</td>\n",
       "      <td>143.4375</td>\n",
       "      <td>4.498125e-13</td>\n",
       "      <td>figsharerainfall/MPI-ESM-1-2-HAM</td>\n",
       "    </tr>\n",
       "    <tr>\n",
       "      <th>1889-01-04 12:00:00</th>\n",
       "      <td>-35.439865</td>\n",
       "      <td>-33.574619</td>\n",
       "      <td>141.5625</td>\n",
       "      <td>143.4375</td>\n",
       "      <td>4.251282e-13</td>\n",
       "      <td>figsharerainfall/MPI-ESM-1-2-HAM</td>\n",
       "    </tr>\n",
       "    <tr>\n",
       "      <th>1889-01-05 12:00:00</th>\n",
       "      <td>-35.439865</td>\n",
       "      <td>-33.574619</td>\n",
       "      <td>141.5625</td>\n",
       "      <td>143.4375</td>\n",
       "      <td>4.270161e-13</td>\n",
       "      <td>figsharerainfall/MPI-ESM-1-2-HAM</td>\n",
       "    </tr>\n",
       "  </tbody>\n",
       "</table>\n",
       "</div>"
      ],
      "text/plain": [
       "                       lat_min    lat_max   lon_min   lon_max  rain (mm/day)  \\\n",
       "time                                                                           \n",
       "1889-01-01 12:00:00 -35.439865 -33.574619  141.5625  143.4375   4.244226e-13   \n",
       "1889-01-02 12:00:00 -35.439865 -33.574619  141.5625  143.4375   4.217326e-13   \n",
       "1889-01-03 12:00:00 -35.439865 -33.574619  141.5625  143.4375   4.498125e-13   \n",
       "1889-01-04 12:00:00 -35.439865 -33.574619  141.5625  143.4375   4.251282e-13   \n",
       "1889-01-05 12:00:00 -35.439865 -33.574619  141.5625  143.4375   4.270161e-13   \n",
       "\n",
       "                                                model  \n",
       "time                                                   \n",
       "1889-01-01 12:00:00  figsharerainfall/MPI-ESM-1-2-HAM  \n",
       "1889-01-02 12:00:00  figsharerainfall/MPI-ESM-1-2-HAM  \n",
       "1889-01-03 12:00:00  figsharerainfall/MPI-ESM-1-2-HAM  \n",
       "1889-01-04 12:00:00  figsharerainfall/MPI-ESM-1-2-HAM  \n",
       "1889-01-05 12:00:00  figsharerainfall/MPI-ESM-1-2-HAM  "
      ]
     },
     "execution_count": 15,
     "metadata": {},
     "output_type": "execute_result"
    }
   ],
   "source": [
    "# Now load in the dataset using float32 dtype to represent numbers\n",
    "colum_dtypes = {'lat_min': np.float32, 'lat_max': np.float32, 'lon_min': np.float32, 'lon_max': np.float32, 'rain (mm/day)': np.float32, 'model': str}\n",
    "df_eda = pd.read_csv(\"figsharerainfall/combined_data.csv\",parse_dates=True, index_col='time', dtype=colum_dtypes)\n",
    "df_eda.head()"
   ]
  },
  {
   "cell_type": "code",
   "execution_count": 16,
   "id": "respective-donna",
   "metadata": {},
   "outputs": [
    {
     "data": {
      "text/plain": [
       "lat_min          float32\n",
       "lat_max          float32\n",
       "lon_min          float32\n",
       "lon_max          float32\n",
       "rain (mm/day)    float32\n",
       "model             object\n",
       "dtype: object"
      ]
     },
     "execution_count": 16,
     "metadata": {},
     "output_type": "execute_result"
    }
   ],
   "source": [
    "# As we can see below, dtypes are float32 and object\n",
    "df_eda.dtypes"
   ]
  },
  {
   "cell_type": "code",
   "execution_count": 17,
   "id": "advance-emergency",
   "metadata": {},
   "outputs": [
    {
     "name": "stdout",
     "output_type": "stream",
     "text": [
      "Memory usage with float32: 2250.50 MB\n"
     ]
    }
   ],
   "source": [
    "print(f\"Memory usage with float32: {df_eda.memory_usage().sum() / 1e6:.2f} MB\")"
   ]
  },
  {
   "cell_type": "code",
   "execution_count": 18,
   "id": "persistent-dietary",
   "metadata": {},
   "outputs": [
    {
     "name": "stdout",
     "output_type": "stream",
     "text": [
      "peak memory: 800.12 MiB, increment: 0.39 MiB\n",
      "CPU times: user 10.5 s, sys: 5.21 s, total: 15.7 s\n",
      "Wall time: 19.8 s\n"
     ]
    },
    {
     "data": {
      "text/html": [
       "<div>\n",
       "<style scoped>\n",
       "    .dataframe tbody tr th:only-of-type {\n",
       "        vertical-align: middle;\n",
       "    }\n",
       "\n",
       "    .dataframe tbody tr th {\n",
       "        vertical-align: top;\n",
       "    }\n",
       "\n",
       "    .dataframe thead th {\n",
       "        text-align: right;\n",
       "    }\n",
       "</style>\n",
       "<table border=\"1\" class=\"dataframe\">\n",
       "  <thead>\n",
       "    <tr style=\"text-align: right;\">\n",
       "      <th></th>\n",
       "      <th>lat_min</th>\n",
       "      <th>lat_max</th>\n",
       "      <th>lon_min</th>\n",
       "      <th>lon_max</th>\n",
       "      <th>rain (mm/day)</th>\n",
       "    </tr>\n",
       "  </thead>\n",
       "  <tbody>\n",
       "    <tr>\n",
       "      <th>count</th>\n",
       "      <td>5.924854e+07</td>\n",
       "      <td>6.246784e+07</td>\n",
       "      <td>5.924854e+07</td>\n",
       "      <td>6.246784e+07</td>\n",
       "      <td>5.929456e+07</td>\n",
       "    </tr>\n",
       "    <tr>\n",
       "      <th>mean</th>\n",
       "      <td>-3.310497e+01</td>\n",
       "      <td>-3.197765e+01</td>\n",
       "      <td>1.469058e+02</td>\n",
       "      <td>1.482150e+02</td>\n",
       "      <td>1.901828e+00</td>\n",
       "    </tr>\n",
       "    <tr>\n",
       "      <th>std</th>\n",
       "      <td>1.963549e+00</td>\n",
       "      <td>1.992067e+00</td>\n",
       "      <td>3.793784e+00</td>\n",
       "      <td>3.809994e+00</td>\n",
       "      <td>5.588274e+00</td>\n",
       "    </tr>\n",
       "    <tr>\n",
       "      <th>min</th>\n",
       "      <td>-3.646739e+01</td>\n",
       "      <td>-3.600000e+01</td>\n",
       "      <td>1.406250e+02</td>\n",
       "      <td>1.412500e+02</td>\n",
       "      <td>-3.807373e-12</td>\n",
       "    </tr>\n",
       "    <tr>\n",
       "      <th>25%</th>\n",
       "      <td>-3.486911e+01</td>\n",
       "      <td>-3.366221e+01</td>\n",
       "      <td>1.434375e+02</td>\n",
       "      <td>1.450000e+02</td>\n",
       "      <td>3.876672e-06</td>\n",
       "    </tr>\n",
       "    <tr>\n",
       "      <th>50%</th>\n",
       "      <td>-3.300000e+01</td>\n",
       "      <td>-3.204189e+01</td>\n",
       "      <td>1.468750e+02</td>\n",
       "      <td>1.481250e+02</td>\n",
       "      <td>6.161705e-02</td>\n",
       "    </tr>\n",
       "    <tr>\n",
       "      <th>75%</th>\n",
       "      <td>-3.140170e+01</td>\n",
       "      <td>-3.015707e+01</td>\n",
       "      <td>1.501875e+02</td>\n",
       "      <td>1.513125e+02</td>\n",
       "      <td>1.021314e+00</td>\n",
       "    </tr>\n",
       "    <tr>\n",
       "      <th>max</th>\n",
       "      <td>-2.990000e+01</td>\n",
       "      <td>-2.790606e+01</td>\n",
       "      <td>1.537500e+02</td>\n",
       "      <td>1.556250e+02</td>\n",
       "      <td>4.329395e+02</td>\n",
       "    </tr>\n",
       "  </tbody>\n",
       "</table>\n",
       "</div>"
      ],
      "text/plain": [
       "            lat_min       lat_max       lon_min       lon_max  rain (mm/day)\n",
       "count  5.924854e+07  6.246784e+07  5.924854e+07  6.246784e+07   5.929456e+07\n",
       "mean  -3.310497e+01 -3.197765e+01  1.469058e+02  1.482150e+02   1.901828e+00\n",
       "std    1.963549e+00  1.992067e+00  3.793784e+00  3.809994e+00   5.588274e+00\n",
       "min   -3.646739e+01 -3.600000e+01  1.406250e+02  1.412500e+02  -3.807373e-12\n",
       "25%   -3.486911e+01 -3.366221e+01  1.434375e+02  1.450000e+02   3.876672e-06\n",
       "50%   -3.300000e+01 -3.204189e+01  1.468750e+02  1.481250e+02   6.161705e-02\n",
       "75%   -3.140170e+01 -3.015707e+01  1.501875e+02  1.513125e+02   1.021314e+00\n",
       "max   -2.990000e+01 -2.790606e+01  1.537500e+02  1.556250e+02   4.329395e+02"
      ]
     },
     "execution_count": 18,
     "metadata": {},
     "output_type": "execute_result"
    }
   ],
   "source": [
    "%%time\n",
    "%memit\n",
    "\n",
    "# Now perform a simple EDA with pandas describe function\n",
    "df_eda.describe()"
   ]
  },
  {
   "cell_type": "markdown",
   "id": "photographic-discount",
   "metadata": {},
   "source": [
    "Time and memory data when using different dtypes:\n",
    "- Memory usage with float32: 2250.50 MB\n",
    "- peak memory: 800.12 MiB, increment: 0.39 MiB\n",
    "- CPU times: user 10.5 s, sys: 5.21 s, total: 15.7 s\n",
    "- Wall time: 19.8 s"
   ]
  },
  {
   "cell_type": "markdown",
   "id": "juvenile-drain",
   "metadata": {},
   "source": [
    "### Effects of loading a smaller subset of columns on memory usage"
   ]
  },
  {
   "cell_type": "code",
   "execution_count": 19,
   "id": "reasonable-sending",
   "metadata": {},
   "outputs": [
    {
     "data": {
      "text/html": [
       "<div>\n",
       "<style scoped>\n",
       "    .dataframe tbody tr th:only-of-type {\n",
       "        vertical-align: middle;\n",
       "    }\n",
       "\n",
       "    .dataframe tbody tr th {\n",
       "        vertical-align: top;\n",
       "    }\n",
       "\n",
       "    .dataframe thead th {\n",
       "        text-align: right;\n",
       "    }\n",
       "</style>\n",
       "<table border=\"1\" class=\"dataframe\">\n",
       "  <thead>\n",
       "    <tr style=\"text-align: right;\">\n",
       "      <th></th>\n",
       "      <th>lat_min</th>\n",
       "      <th>rain (mm/day)</th>\n",
       "    </tr>\n",
       "    <tr>\n",
       "      <th>time</th>\n",
       "      <th></th>\n",
       "      <th></th>\n",
       "    </tr>\n",
       "  </thead>\n",
       "  <tbody>\n",
       "    <tr>\n",
       "      <th>1889-01-01 12:00:00</th>\n",
       "      <td>-35.439867</td>\n",
       "      <td>4.244226e-13</td>\n",
       "    </tr>\n",
       "    <tr>\n",
       "      <th>1889-01-02 12:00:00</th>\n",
       "      <td>-35.439867</td>\n",
       "      <td>4.217326e-13</td>\n",
       "    </tr>\n",
       "    <tr>\n",
       "      <th>1889-01-03 12:00:00</th>\n",
       "      <td>-35.439867</td>\n",
       "      <td>4.498125e-13</td>\n",
       "    </tr>\n",
       "    <tr>\n",
       "      <th>1889-01-04 12:00:00</th>\n",
       "      <td>-35.439867</td>\n",
       "      <td>4.251282e-13</td>\n",
       "    </tr>\n",
       "    <tr>\n",
       "      <th>1889-01-05 12:00:00</th>\n",
       "      <td>-35.439867</td>\n",
       "      <td>4.270161e-13</td>\n",
       "    </tr>\n",
       "  </tbody>\n",
       "</table>\n",
       "</div>"
      ],
      "text/plain": [
       "                       lat_min  rain (mm/day)\n",
       "time                                         \n",
       "1889-01-01 12:00:00 -35.439867   4.244226e-13\n",
       "1889-01-02 12:00:00 -35.439867   4.217326e-13\n",
       "1889-01-03 12:00:00 -35.439867   4.498125e-13\n",
       "1889-01-04 12:00:00 -35.439867   4.251282e-13\n",
       "1889-01-05 12:00:00 -35.439867   4.270161e-13"
      ]
     },
     "execution_count": 19,
     "metadata": {},
     "output_type": "execute_result"
    }
   ],
   "source": [
    "# Now load only a subset of columns from the dataset\n",
    "df_eda = pd.read_csv(\"figsharerainfall/combined_data.csv\",parse_dates=True, index_col='time', usecols=['time', 'lat_min', 'rain (mm/day)'])\n",
    "df_eda.head()"
   ]
  },
  {
   "cell_type": "code",
   "execution_count": 20,
   "id": "simplified-national",
   "metadata": {},
   "outputs": [
    {
     "data": {
      "text/plain": [
       "lat_min          float64\n",
       "rain (mm/day)    float64\n",
       "dtype: object"
      ]
     },
     "execution_count": 20,
     "metadata": {},
     "output_type": "execute_result"
    }
   ],
   "source": [
    "# As we can see below, dtypes are float64 by default\n",
    "df_eda.dtypes"
   ]
  },
  {
   "cell_type": "code",
   "execution_count": 21,
   "id": "significant-hebrew",
   "metadata": {},
   "outputs": [
    {
     "name": "stdout",
     "output_type": "stream",
     "text": [
      "Memory usage with reduced number of columns: 1500.33 MB\n"
     ]
    }
   ],
   "source": [
    "print(f\"Memory usage with reduced number of columns: {df_eda.memory_usage().sum() / 1e6:.2f} MB\")"
   ]
  },
  {
   "cell_type": "code",
   "execution_count": 22,
   "id": "choice-amplifier",
   "metadata": {},
   "outputs": [
    {
     "name": "stdout",
     "output_type": "stream",
     "text": [
      "peak memory: 848.64 MiB, increment: 0.35 MiB\n",
      "CPU times: user 6.41 s, sys: 4.26 s, total: 10.7 s\n",
      "Wall time: 15 s\n"
     ]
    },
    {
     "data": {
      "text/html": [
       "<div>\n",
       "<style scoped>\n",
       "    .dataframe tbody tr th:only-of-type {\n",
       "        vertical-align: middle;\n",
       "    }\n",
       "\n",
       "    .dataframe tbody tr th {\n",
       "        vertical-align: top;\n",
       "    }\n",
       "\n",
       "    .dataframe thead th {\n",
       "        text-align: right;\n",
       "    }\n",
       "</style>\n",
       "<table border=\"1\" class=\"dataframe\">\n",
       "  <thead>\n",
       "    <tr style=\"text-align: right;\">\n",
       "      <th></th>\n",
       "      <th>lat_min</th>\n",
       "      <th>rain (mm/day)</th>\n",
       "    </tr>\n",
       "  </thead>\n",
       "  <tbody>\n",
       "    <tr>\n",
       "      <th>count</th>\n",
       "      <td>5.924854e+07</td>\n",
       "      <td>5.929456e+07</td>\n",
       "    </tr>\n",
       "    <tr>\n",
       "      <th>mean</th>\n",
       "      <td>-3.310482e+01</td>\n",
       "      <td>1.901827e+00</td>\n",
       "    </tr>\n",
       "    <tr>\n",
       "      <th>std</th>\n",
       "      <td>1.963549e+00</td>\n",
       "      <td>5.588275e+00</td>\n",
       "    </tr>\n",
       "    <tr>\n",
       "      <th>min</th>\n",
       "      <td>-3.646739e+01</td>\n",
       "      <td>-3.807373e-12</td>\n",
       "    </tr>\n",
       "    <tr>\n",
       "      <th>25%</th>\n",
       "      <td>-3.486911e+01</td>\n",
       "      <td>3.876672e-06</td>\n",
       "    </tr>\n",
       "    <tr>\n",
       "      <th>50%</th>\n",
       "      <td>-3.300000e+01</td>\n",
       "      <td>6.161705e-02</td>\n",
       "    </tr>\n",
       "    <tr>\n",
       "      <th>75%</th>\n",
       "      <td>-3.140170e+01</td>\n",
       "      <td>1.021314e+00</td>\n",
       "    </tr>\n",
       "    <tr>\n",
       "      <th>max</th>\n",
       "      <td>-2.990000e+01</td>\n",
       "      <td>4.329395e+02</td>\n",
       "    </tr>\n",
       "  </tbody>\n",
       "</table>\n",
       "</div>"
      ],
      "text/plain": [
       "            lat_min  rain (mm/day)\n",
       "count  5.924854e+07   5.929456e+07\n",
       "mean  -3.310482e+01   1.901827e+00\n",
       "std    1.963549e+00   5.588275e+00\n",
       "min   -3.646739e+01  -3.807373e-12\n",
       "25%   -3.486911e+01   3.876672e-06\n",
       "50%   -3.300000e+01   6.161705e-02\n",
       "75%   -3.140170e+01   1.021314e+00\n",
       "max   -2.990000e+01   4.329395e+02"
      ]
     },
     "execution_count": 22,
     "metadata": {},
     "output_type": "execute_result"
    }
   ],
   "source": [
    "%%time\n",
    "%memit\n",
    "\n",
    "# Now perform a simple EDA with pandas describe function\n",
    "df_eda.describe()"
   ]
  },
  {
   "cell_type": "markdown",
   "id": "mysterious-washer",
   "metadata": {},
   "source": [
    "Time and memory data when using column subset:\n",
    "- Memory usage with reduced number of columns: 1500.33 MB\n",
    "- peak memory: 848.64 MiB, increment: 0.35 MiB\n",
    "- CPU times: user 6.41 s, sys: 4.26 s, total: 10.7 s\n",
    "- Wall time: 15 s"
   ]
  },
  {
   "cell_type": "markdown",
   "id": "decent-record",
   "metadata": {},
   "source": [
    "### Summary"
   ]
  },
  {
   "cell_type": "markdown",
   "id": "incoming-masters",
   "metadata": {},
   "source": [
    "#### Using float32 vs. baseline float64 dtype to perform a simple EDA:\n",
    "- The memory usage decreased from 3500.78 MB to 2250.50 MB when representing numbers using float32 instead of float64\n",
    "- When using the pandas describe function to perform a simple EDA, we found that the peak memory increased when using float32 dtype for the numerical columns. \n",
    "- The wall time taken to perform the EDA also decreased substantially to 19.8s from the baseline of 36.5s. \n",
    "\n",
    "#### Using a reduced number of columns compared to the baseline to perform a simple EDA:\n",
    "- The memory usage decreased from 3500.78 MB to 1500.33 MB when using a subset of columns from the dataset\n",
    "- When using the pandas describe function to perform a simple EDA, we found that the peak memory increased when using fewer columns. \n",
    "- The wall time taken to perform the EDA also decreased substantially to 15s from the baseline of 36.5s. "
   ]
  },
  {
   "cell_type": "markdown",
   "id": "mexican-maria",
   "metadata": {},
   "source": [
    "## 4. Perform a simple EDA in R <a name=\"4\"></a>"
   ]
  },
  {
   "cell_type": "markdown",
   "id": "organized-colorado",
   "metadata": {},
   "source": [
    "We will transform our dataframe into different formats before loading into R.\n",
    "#### I. Default memory format + feather file format"
   ]
  },
  {
   "cell_type": "code",
   "execution_count": 23,
   "id": "greater-squad",
   "metadata": {},
   "outputs": [
    {
     "name": "stdout",
     "output_type": "stream",
     "text": [
      "CPU times: user 15.1 s, sys: 22.3 s, total: 37.4 s\n",
      "Wall time: 31.6 s\n"
     ]
    }
   ],
   "source": [
    "%%time\n",
    "feather.write_feather(df, \"figsharerainfall/combined_data.feather\")"
   ]
  },
  {
   "cell_type": "markdown",
   "id": "central-conference",
   "metadata": {},
   "source": [
    "#### II. dask + parquet file format"
   ]
  },
  {
   "cell_type": "code",
   "execution_count": 24,
   "id": "exempt-invite",
   "metadata": {},
   "outputs": [],
   "source": [
    "ddf = dd.read_csv(\"figsharerainfall/combined_data.csv\")"
   ]
  },
  {
   "cell_type": "code",
   "execution_count": 25,
   "id": "asian-professor",
   "metadata": {},
   "outputs": [
    {
     "name": "stdout",
     "output_type": "stream",
     "text": [
      "CPU times: user 2min 22s, sys: 38.4 s, total: 3min 1s\n",
      "Wall time: 1min 25s\n"
     ]
    }
   ],
   "source": [
    "%%time\n",
    "dd.to_parquet(ddf, 'figsharerainfall/combined_data.parquet')"
   ]
  },
  {
   "cell_type": "markdown",
   "id": "discrete-charter",
   "metadata": {},
   "source": [
    "#### III. Arrow memory format + parquet file format"
   ]
  },
  {
   "cell_type": "code",
   "execution_count": 26,
   "id": "constant-maria",
   "metadata": {},
   "outputs": [
    {
     "name": "stdout",
     "output_type": "stream",
     "text": [
      "peak memory: 1783.19 MiB, increment: 1130.65 MiB\n",
      "CPU times: user 25.5 s, sys: 17.4 s, total: 42.9 s\n",
      "Wall time: 39.2 s\n"
     ]
    }
   ],
   "source": [
    "%%time\n",
    "%%memit\n",
    "dataset = ds.dataset(\"figsharerainfall/combined_data.csv\", format=\"csv\")\n",
    "table = dataset.to_table()"
   ]
  },
  {
   "cell_type": "code",
   "execution_count": 27,
   "id": "little-perry",
   "metadata": {},
   "outputs": [
    {
     "name": "stdout",
     "output_type": "stream",
     "text": [
      "CPU times: user 17.3 s, sys: 9.28 s, total: 26.6 s\n",
      "Wall time: 50.7 s\n"
     ]
    }
   ],
   "source": [
    "%%time\n",
    "pq.write_to_dataset(table, 'figsharerainfall/rainfall.parquet')"
   ]
  },
  {
   "cell_type": "markdown",
   "id": "positive-salon",
   "metadata": {},
   "source": [
    "#### IV. Arrow memory format + feather file format"
   ]
  },
  {
   "cell_type": "code",
   "execution_count": 28,
   "id": "handled-praise",
   "metadata": {},
   "outputs": [
    {
     "name": "stdout",
     "output_type": "stream",
     "text": [
      "CPU times: user 5.44 s, sys: 11.3 s, total: 16.7 s\n",
      "Wall time: 17.4 s\n"
     ]
    }
   ],
   "source": [
    "%%time\n",
    "feather.write_feather(table, 'figsharerainfall/rainfall.feather')"
   ]
  },
  {
   "cell_type": "code",
   "execution_count": 29,
   "id": "successful-commitment",
   "metadata": {},
   "outputs": [
    {
     "name": "stdout",
     "output_type": "stream",
     "text": [
      "6.6G\tfigsharerainfall/combined_data.csv\n",
      "2.3G\tfigsharerainfall/combined_data.parquet\n",
      "540M\tfigsharerainfall/rainfall.parquet\n",
      "1.0G\tfigsharerainfall/rainfall.feather\n"
     ]
    }
   ],
   "source": [
    "%%sh\n",
    "du -sh figsharerainfall/combined_data.csv\n",
    "du -sh figsharerainfall/combined_data.parquet\n",
    "du -sh figsharerainfall/rainfall.parquet\n",
    "du -sh figsharerainfall/rainfall.feather"
   ]
  },
  {
   "cell_type": "markdown",
   "id": "toxic-consistency",
   "metadata": {},
   "source": [
    "### Transfer different formats of data from Python to R"
   ]
  },
  {
   "cell_type": "markdown",
   "id": "fourth-merchant",
   "metadata": {},
   "source": [
    "It is usually not efficient to directly transfer Python dataframe to R due to serialization and deserialization involved in the process. Also, we observe Arrow memory format performs better than the default memory default. Thus, our next step is to further compare the performance of transferring Arrow-feather file and Arrow-parquet file to R.\n",
    "\n",
    "#### I. Read Arrow-parquet file to R"
   ]
  },
  {
   "cell_type": "markdown",
   "id": "spiritual-highway",
   "metadata": {},
   "source": [
    "```python\n",
    "%%time\n",
    "%%R\n",
    "library(arrow)\n",
    "start_time <- Sys.time()\n",
    "r_table <- arrow::read_parquet(\"figsharerainfall/rainfall.parquet/e5a0076fe71f4bdead893e20a935897b.parquet\")\n",
    "print(class(r_table))\n",
    "library(dplyr)\n",
    "result <- r_table %>% count(model)\n",
    "end_time <- Sys.time()\n",
    "print(result)\n",
    "print(end_time - start_time)\n",
    "```"
   ]
  },
  {
   "cell_type": "markdown",
   "id": "happy-baghdad",
   "metadata": {},
   "source": [
    "![](../img/output.png)"
   ]
  },
  {
   "cell_type": "markdown",
   "id": "activated-aurora",
   "metadata": {},
   "source": [
    "*Note that the code above has been commented out to ensure the workbook is reproducible. Please check Reflection for more details*"
   ]
  },
  {
   "cell_type": "markdown",
   "id": "behind-mandate",
   "metadata": {},
   "source": [
    "#### II. Read Arrow-feather file to R"
   ]
  },
  {
   "cell_type": "code",
   "execution_count": 30,
   "id": "unsigned-powder",
   "metadata": {},
   "outputs": [
    {
     "name": "stderr",
     "output_type": "stream",
     "text": [
      "R[write to console]: \n",
      "Attaching package: ‘arrow’\n",
      "\n",
      "\n",
      "R[write to console]: The following object is masked from ‘package:utils’:\n",
      "\n",
      "    timestamp\n",
      "\n",
      "\n"
     ]
    },
    {
     "name": "stdout",
     "output_type": "stream",
     "text": [
      "[1] \"tbl_df\"     \"tbl\"        \"data.frame\"\n"
     ]
    },
    {
     "name": "stderr",
     "output_type": "stream",
     "text": [
      "R[write to console]: \n",
      "Attaching package: ‘dplyr’\n",
      "\n",
      "\n",
      "R[write to console]: The following objects are masked from ‘package:stats’:\n",
      "\n",
      "    filter, lag\n",
      "\n",
      "\n",
      "R[write to console]: The following objects are masked from ‘package:base’:\n",
      "\n",
      "    intersect, setdiff, setequal, union\n",
      "\n",
      "\n"
     ]
    },
    {
     "name": "stdout",
     "output_type": "stream",
     "text": [
      "\u001b[90m# A tibble: 28 x 2\u001b[39m\n",
      "   model                                   n\n",
      " \u001b[90m*\u001b[39m \u001b[3m\u001b[90m<chr>\u001b[39m\u001b[23m                               \u001b[3m\u001b[90m<int>\u001b[39m\u001b[23m\n",
      "\u001b[90m 1\u001b[39m figsharerainfall/ACCESS-CM2       1\u001b[4m9\u001b[24m\u001b[4m3\u001b[24m\u001b[4m2\u001b[24m840\n",
      "\u001b[90m 2\u001b[39m figsharerainfall/ACCESS-ESM1-5    1\u001b[4m6\u001b[24m\u001b[4m1\u001b[24m\u001b[4m0\u001b[24m700\n",
      "\u001b[90m 3\u001b[39m figsharerainfall/AWI-ESM-1-1-LR    \u001b[4m9\u001b[24m\u001b[4m6\u001b[24m\u001b[4m6\u001b[24m420\n",
      "\u001b[90m 4\u001b[39m figsharerainfall/BCC-CSM2-MR      3\u001b[4m0\u001b[24m\u001b[4m3\u001b[24m\u001b[4m5\u001b[24m340\n",
      "\u001b[90m 5\u001b[39m figsharerainfall/BCC-ESM1          \u001b[4m5\u001b[24m\u001b[4m5\u001b[24m\u001b[4m1\u001b[24m880\n",
      "\u001b[90m 6\u001b[39m figsharerainfall/CanESM5           \u001b[4m5\u001b[24m\u001b[4m5\u001b[24m\u001b[4m1\u001b[24m880\n",
      "\u001b[90m 7\u001b[39m figsharerainfall/CMCC-CM2-HR4     3\u001b[4m5\u001b[24m\u001b[4m4\u001b[24m\u001b[4m1\u001b[24m230\n",
      "\u001b[90m 8\u001b[39m figsharerainfall/CMCC-CM2-SR5     3\u001b[4m5\u001b[24m\u001b[4m4\u001b[24m\u001b[4m1\u001b[24m230\n",
      "\u001b[90m 9\u001b[39m figsharerainfall/CMCC-ESM2        3\u001b[4m5\u001b[24m\u001b[4m4\u001b[24m\u001b[4m1\u001b[24m230\n",
      "\u001b[90m10\u001b[39m figsharerainfall/EC-Earth3-Veg-LR 3\u001b[4m0\u001b[24m\u001b[4m3\u001b[24m\u001b[4m7\u001b[24m320\n",
      "\u001b[90m# … with 18 more rows\u001b[39m\n",
      "Time difference of 1.11685 mins\n",
      "CPU times: user 18.4 s, sys: 32.2 s, total: 50.6 s\n",
      "Wall time: 1min 8s\n"
     ]
    }
   ],
   "source": [
    "%%time\n",
    "%%R\n",
    "library(arrow)\n",
    "start_time <- Sys.time()\n",
    "r_table <- arrow::read_feather(\"figsharerainfall/rainfall.feather\")\n",
    "print(class(r_table))\n",
    "library(dplyr)\n",
    "result <- r_table %>% count(model)\n",
    "end_time <- Sys.time()\n",
    "print(result)\n",
    "print(end_time - start_time)"
   ]
  },
  {
   "cell_type": "markdown",
   "id": "corrected-processing",
   "metadata": {},
   "source": [
    "#### Summary of format selection\n",
    "Based on the data storage and processing time comparison from above, our preferred format among all is **parquet using Arrow package**. The file with this format takes much less space to store it. Also, it takes less time to write to this format and read it in R."
   ]
  },
  {
   "cell_type": "markdown",
   "id": "cardiovascular-details",
   "metadata": {},
   "source": [
    "## Reflection <a name=\"5\"></a>"
   ]
  },
  {
   "cell_type": "markdown",
   "id": "featured-narrow",
   "metadata": {},
   "source": [
    "After some trial and error, all team members were individually able to successfully run the analysis from start to finish, however during the process we did experience some problems which included the following:\n",
    "- William had issue with `%load_ext rpy2.ipython` despite the successful environment installation on his MacOS. After many hours debugging, ry2 finally worked after specifying the python version in the course yml file. The solution is to add `python=3.8.6` to the 525.yml file under `dependencies:` and reinstall the environment. \n",
    "- Even though the file sizes were only 5 GB, we actually required 10 GB of disk space since we needed to download and unzip the data.\n",
    "- We got some confusing results by accidentally re-downloading the dataset without first deleting it since we were then combining twice as many files in the next step.\n",
    "- We noticed that parquet file name was not consistently generated when we re-run the workbook. If we keep the curent file name and re-run all cells, `arrow::read_parquet` function would return an error message indicating that the file \"e5a0076fe71f4bdead893e20a935897b.parquet\" does not exist in the directory. For reproducibility reason, we decided to comment out the code but record the output for further comparison."
   ]
  }
 ],
 "metadata": {
  "kernelspec": {
   "display_name": "Python [conda env:525]",
   "language": "python",
   "name": "conda-env-525-py"
  },
  "language_info": {
   "codemirror_mode": {
    "name": "ipython",
    "version": 3
   },
   "file_extension": ".py",
   "mimetype": "text/x-python",
   "name": "python",
   "nbconvert_exporter": "python",
   "pygments_lexer": "ipython3",
   "version": "3.8.6"
  }
 },
 "nbformat": 4,
 "nbformat_minor": 5
}
