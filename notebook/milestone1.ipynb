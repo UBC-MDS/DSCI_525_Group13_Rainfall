{
 "cells": [
  {
   "cell_type": "markdown",
   "id": "absent-nursery",
   "metadata": {},
   "source": [
    "# DSCI 525: Web and Cloud Computing\n",
    "\n",
    "## Milestone 1: Tackling Big Data on Computer\n",
    "\n",
    "### Group 13\n",
    "Authors: Ivy Zhang, Mike Lynch, Selma Duric, William Xu"
   ]
  },
  {
   "cell_type": "markdown",
   "id": "proved-elimination",
   "metadata": {},
   "source": [
    "## Table of contents\n",
    "\n",
    "- [Download the data](#1)\n",
    "- [Combining data CSVs](#2)\n",
    "- [Load the combined CSV to memory and perform a simple EDA](#3)\n",
    "- [Perform a simple EDA in R](#4)\n",
    "- [Reflection](#5)"
   ]
  },
  {
   "cell_type": "markdown",
   "id": "polish-strap",
   "metadata": {},
   "source": [
    "### Imports"
   ]
  },
  {
   "cell_type": "code",
   "execution_count": 1,
   "id": "hispanic-novelty",
   "metadata": {},
   "outputs": [],
   "source": [
    "import re\n",
    "import os\n",
    "import glob\n",
    "import zipfile\n",
    "import requests\n",
    "from urllib.request import urlretrieve\n",
    "import json\n",
    "import pandas as pd\n",
    "import numpy as np\n",
    "import pyarrow.feather as feather\n",
    "from memory_profiler import memory_usage"
   ]
  },
  {
   "cell_type": "code",
   "execution_count": 2,
   "id": "collect-forum",
   "metadata": {},
   "outputs": [],
   "source": [
    "%load_ext rpy2.ipython\n",
    "%load_ext memory_profiler"
   ]
  },
  {
   "cell_type": "markdown",
   "id": "ecological-medline",
   "metadata": {},
   "source": [
    "## Download the data <a name=\"1\"></a>"
   ]
  },
  {
   "cell_type": "markdown",
   "id": "billion-cologne",
   "metadata": {},
   "source": [
    "1. Download the data from figshare to local computer using the figshare API.\n",
    "2. Extract the zip file programmatically."
   ]
  },
  {
   "cell_type": "code",
   "execution_count": 3,
   "id": "distinguished-florida",
   "metadata": {},
   "outputs": [],
   "source": [
    "# Attribution: DSCI 525 lecture notebook\n",
    "# Necessary metadata\n",
    "article_id = 14096681  # unique identifier of the article on figshare\n",
    "url = f\"https://api.figshare.com/v2/articles/{article_id}\"\n",
    "headers = {\"Content-Type\": \"application/json\"}\n",
    "output_directory = \"figsharerainfall/\""
   ]
  },
  {
   "cell_type": "code",
   "execution_count": 4,
   "id": "compatible-corruption",
   "metadata": {},
   "outputs": [],
   "source": [
    "response = requests.request(\"GET\", url, headers=headers)\n",
    "data = json.loads(response.text)\n",
    "files = data[\"files\"]    "
   ]
  },
  {
   "cell_type": "code",
   "execution_count": 5,
   "id": "following-dealing",
   "metadata": {},
   "outputs": [
    {
     "name": "stdout",
     "output_type": "stream",
     "text": [
      "CPU times: user 3.88 s, sys: 2.93 s, total: 6.81 s\n",
      "Wall time: 1min 10s\n"
     ]
    }
   ],
   "source": [
    "%%time\n",
    "files_to_dl = [\"data.zip\"]  \n",
    "for file in files:\n",
    "    if file[\"name\"] in files_to_dl:\n",
    "        os.makedirs(output_directory, exist_ok=True)\n",
    "        urlretrieve(file[\"download_url\"], output_directory + file[\"name\"])"
   ]
  },
  {
   "cell_type": "code",
   "execution_count": 6,
   "id": "fifteen-idaho",
   "metadata": {},
   "outputs": [
    {
     "name": "stdout",
     "output_type": "stream",
     "text": [
      "CPU times: user 10.8 s, sys: 1.49 s, total: 12.3 s\n",
      "Wall time: 12.3 s\n"
     ]
    }
   ],
   "source": [
    "%%time\n",
    "with zipfile.ZipFile(os.path.join(output_directory, \"data.zip\"), 'r') as f:\n",
    "    f.extractall(output_directory)"
   ]
  },
  {
   "cell_type": "markdown",
   "id": "nuclear-wellington",
   "metadata": {},
   "source": [
    "## Combining data CSVs <a name=\"2\"></a>"
   ]
  },
  {
   "cell_type": "markdown",
   "id": "pointed-joshua",
   "metadata": {},
   "source": [
    "1. Use one of the following options to combine data CSVs into a single CSV (Pandas, Dask). **We used the option of Pandas**.\n",
    "2. When combining the csv files, we added extra column called \"model\" that identifies the model (we get this column populated from the file name eg: for file name \"SAM0-UNICON_daily_rainfall_NSW.csv\", the model name is SAM0-UNICON)\n",
    "3. Compare run times and memory usages of these options on different machines within the team, and summarize observations."
   ]
  },
  {
   "cell_type": "code",
   "execution_count": 7,
   "id": "fifth-pension",
   "metadata": {},
   "outputs": [
    {
     "name": "stdout",
     "output_type": "stream",
     "text": [
      "peak memory: 168.59 MiB, increment: 0.12 MiB\n",
      "CPU times: user 3min 29s, sys: 5.09 s, total: 3min 34s\n",
      "Wall time: 3min 34s\n"
     ]
    }
   ],
   "source": [
    "%%time\n",
    "%memit\n",
    "# Shows time that regular python takes to merge file\n",
    "# Join all data together\n",
    "## here we are using a normal python way of merging the data \n",
    "# use_cols = [\"time\", \"lat_min\", \"lat_max\", \"lon_min\",\"lon_max\",\"rain (mm/day)\"]\n",
    "files = glob.glob('figsharerainfall/*.csv')\n",
    "df = pd.concat((pd.read_csv(file, index_col=0)\n",
    "                .assign(model=re.findall(r'^[^_]+(?=_)', file)[0])\n",
    "                for file in files)\n",
    "              )\n",
    "df.to_csv(\"figsharerainfall/combined_data.csv\")"
   ]
  },
  {
   "cell_type": "code",
   "execution_count": 8,
   "id": "jewish-marijuana",
   "metadata": {},
   "outputs": [],
   "source": [
    "feather.write_feather(df, \"figsharerainfall/combined_data.feather\")"
   ]
  },
  {
   "cell_type": "code",
   "execution_count": 9,
   "id": "armed-vienna",
   "metadata": {},
   "outputs": [
    {
     "name": "stdout",
     "output_type": "stream",
     "text": [
      "6.6G\tfigsharerainfall/combined_data.csv\n"
     ]
    }
   ],
   "source": [
    "%%sh\n",
    "du -sh figsharerainfall/combined_data.csv"
   ]
  },
  {
   "cell_type": "code",
   "execution_count": 10,
   "id": "dried-nature",
   "metadata": {},
   "outputs": [
    {
     "name": "stdout",
     "output_type": "stream",
     "text": [
      "CPU times: user 33.3 s, sys: 3.11 s, total: 36.5 s\n",
      "Wall time: 37.1 s\n"
     ]
    }
   ],
   "source": [
    "%%time\n",
    "df = pd.read_csv(\"figsharerainfall/combined_data.csv\")"
   ]
  },
  {
   "cell_type": "code",
   "execution_count": 11,
   "id": "parallel-newton",
   "metadata": {},
   "outputs": [
    {
     "name": "stdout",
     "output_type": "stream",
     "text": [
      "(62513863, 7)\n"
     ]
    }
   ],
   "source": [
    "print(df.shape)"
   ]
  },
  {
   "cell_type": "code",
   "execution_count": 12,
   "id": "confidential-causing",
   "metadata": {},
   "outputs": [
    {
     "data": {
      "text/html": [
       "<div>\n",
       "<style scoped>\n",
       "    .dataframe tbody tr th:only-of-type {\n",
       "        vertical-align: middle;\n",
       "    }\n",
       "\n",
       "    .dataframe tbody tr th {\n",
       "        vertical-align: top;\n",
       "    }\n",
       "\n",
       "    .dataframe thead th {\n",
       "        text-align: right;\n",
       "    }\n",
       "</style>\n",
       "<table border=\"1\" class=\"dataframe\">\n",
       "  <thead>\n",
       "    <tr style=\"text-align: right;\">\n",
       "      <th></th>\n",
       "      <th>time</th>\n",
       "      <th>lat_min</th>\n",
       "      <th>lat_max</th>\n",
       "      <th>lon_min</th>\n",
       "      <th>lon_max</th>\n",
       "      <th>rain (mm/day)</th>\n",
       "      <th>model</th>\n",
       "    </tr>\n",
       "  </thead>\n",
       "  <tbody>\n",
       "    <tr>\n",
       "      <th>0</th>\n",
       "      <td>1889-01-01 12:00:00</td>\n",
       "      <td>-35.439867</td>\n",
       "      <td>-33.574619</td>\n",
       "      <td>141.5625</td>\n",
       "      <td>143.4375</td>\n",
       "      <td>4.244226e-13</td>\n",
       "      <td>figsharerainfall/MPI-ESM-1-2-HAM</td>\n",
       "    </tr>\n",
       "    <tr>\n",
       "      <th>1</th>\n",
       "      <td>1889-01-02 12:00:00</td>\n",
       "      <td>-35.439867</td>\n",
       "      <td>-33.574619</td>\n",
       "      <td>141.5625</td>\n",
       "      <td>143.4375</td>\n",
       "      <td>4.217326e-13</td>\n",
       "      <td>figsharerainfall/MPI-ESM-1-2-HAM</td>\n",
       "    </tr>\n",
       "    <tr>\n",
       "      <th>2</th>\n",
       "      <td>1889-01-03 12:00:00</td>\n",
       "      <td>-35.439867</td>\n",
       "      <td>-33.574619</td>\n",
       "      <td>141.5625</td>\n",
       "      <td>143.4375</td>\n",
       "      <td>4.498125e-13</td>\n",
       "      <td>figsharerainfall/MPI-ESM-1-2-HAM</td>\n",
       "    </tr>\n",
       "    <tr>\n",
       "      <th>3</th>\n",
       "      <td>1889-01-04 12:00:00</td>\n",
       "      <td>-35.439867</td>\n",
       "      <td>-33.574619</td>\n",
       "      <td>141.5625</td>\n",
       "      <td>143.4375</td>\n",
       "      <td>4.251282e-13</td>\n",
       "      <td>figsharerainfall/MPI-ESM-1-2-HAM</td>\n",
       "    </tr>\n",
       "    <tr>\n",
       "      <th>4</th>\n",
       "      <td>1889-01-05 12:00:00</td>\n",
       "      <td>-35.439867</td>\n",
       "      <td>-33.574619</td>\n",
       "      <td>141.5625</td>\n",
       "      <td>143.4375</td>\n",
       "      <td>4.270161e-13</td>\n",
       "      <td>figsharerainfall/MPI-ESM-1-2-HAM</td>\n",
       "    </tr>\n",
       "  </tbody>\n",
       "</table>\n",
       "</div>"
      ],
      "text/plain": [
       "                  time    lat_min    lat_max   lon_min   lon_max  \\\n",
       "0  1889-01-01 12:00:00 -35.439867 -33.574619  141.5625  143.4375   \n",
       "1  1889-01-02 12:00:00 -35.439867 -33.574619  141.5625  143.4375   \n",
       "2  1889-01-03 12:00:00 -35.439867 -33.574619  141.5625  143.4375   \n",
       "3  1889-01-04 12:00:00 -35.439867 -33.574619  141.5625  143.4375   \n",
       "4  1889-01-05 12:00:00 -35.439867 -33.574619  141.5625  143.4375   \n",
       "\n",
       "   rain (mm/day)                             model  \n",
       "0   4.244226e-13  figsharerainfall/MPI-ESM-1-2-HAM  \n",
       "1   4.217326e-13  figsharerainfall/MPI-ESM-1-2-HAM  \n",
       "2   4.498125e-13  figsharerainfall/MPI-ESM-1-2-HAM  \n",
       "3   4.251282e-13  figsharerainfall/MPI-ESM-1-2-HAM  \n",
       "4   4.270161e-13  figsharerainfall/MPI-ESM-1-2-HAM  "
      ]
     },
     "execution_count": 12,
     "metadata": {},
     "output_type": "execute_result"
    }
   ],
   "source": [
    "df.head()"
   ]
  },
  {
   "cell_type": "markdown",
   "id": "pointed-field",
   "metadata": {},
   "source": [
    "**Summary of run times and memory usages:**\n",
    "\n",
    "***William***\n",
    "- Combining files: \n",
    "    - peak memory: 95.41 MiB, increment: 0.26 MiB\n",
    "    - CPU times: user 7min 28s, sys: 31 s, total: 7min 59s\n",
    "    - Wall time: 9min 17s\n",
    "- Reading the combined file:\n",
    "    - Wall time: 1min 51s\n",
    "\n",
    "***Mike***\n",
    "- Combining files: \n",
    "    - peak memory: 168.59 MiB, increment: 0.12 MiB\n",
    "    - CPU times: user 3min 29s, sys: 5.09 s, total: 3min 34s\n",
    "    - Wall time: 3min 34s\n",
    "- Reading the combined file:\n",
    "    - Wall time: 37.1 s\n",
    "\n",
    "\n",
    "Feel free to add your run times and memory usages and list here (we meant to compare these metrics)"
   ]
  },
  {
   "cell_type": "markdown",
   "id": "instructional-maria",
   "metadata": {},
   "source": [
    "## Load the combined CSV to memory and perform a simple EDA <a name=\"3\"></a>"
   ]
  },
  {
   "cell_type": "markdown",
   "id": "complex-motel",
   "metadata": {},
   "source": [
    "### Establish a baseline for memory usage"
   ]
  },
  {
   "cell_type": "code",
   "execution_count": 3,
   "id": "tribal-approval",
   "metadata": {},
   "outputs": [
    {
     "data": {
      "text/html": [
       "<div>\n",
       "<style scoped>\n",
       "    .dataframe tbody tr th:only-of-type {\n",
       "        vertical-align: middle;\n",
       "    }\n",
       "\n",
       "    .dataframe tbody tr th {\n",
       "        vertical-align: top;\n",
       "    }\n",
       "\n",
       "    .dataframe thead th {\n",
       "        text-align: right;\n",
       "    }\n",
       "</style>\n",
       "<table border=\"1\" class=\"dataframe\">\n",
       "  <thead>\n",
       "    <tr style=\"text-align: right;\">\n",
       "      <th></th>\n",
       "      <th>lat_min</th>\n",
       "      <th>lat_max</th>\n",
       "      <th>lon_min</th>\n",
       "      <th>lon_max</th>\n",
       "      <th>rain (mm/day)</th>\n",
       "      <th>model</th>\n",
       "    </tr>\n",
       "    <tr>\n",
       "      <th>time</th>\n",
       "      <th></th>\n",
       "      <th></th>\n",
       "      <th></th>\n",
       "      <th></th>\n",
       "      <th></th>\n",
       "      <th></th>\n",
       "    </tr>\n",
       "  </thead>\n",
       "  <tbody>\n",
       "    <tr>\n",
       "      <th>1889-01-01 12:00:00</th>\n",
       "      <td>-36.277805</td>\n",
       "      <td>-33.487232</td>\n",
       "      <td>142.03125</td>\n",
       "      <td>144.84375</td>\n",
       "      <td>1.286930e-24</td>\n",
       "      <td>figsharerainfall/BCC-ESM1</td>\n",
       "    </tr>\n",
       "    <tr>\n",
       "      <th>1889-01-02 12:00:00</th>\n",
       "      <td>-36.277805</td>\n",
       "      <td>-33.487232</td>\n",
       "      <td>142.03125</td>\n",
       "      <td>144.84375</td>\n",
       "      <td>1.279780e-24</td>\n",
       "      <td>figsharerainfall/BCC-ESM1</td>\n",
       "    </tr>\n",
       "    <tr>\n",
       "      <th>1889-01-03 12:00:00</th>\n",
       "      <td>-36.277805</td>\n",
       "      <td>-33.487232</td>\n",
       "      <td>142.03125</td>\n",
       "      <td>144.84375</td>\n",
       "      <td>1.499248e-17</td>\n",
       "      <td>figsharerainfall/BCC-ESM1</td>\n",
       "    </tr>\n",
       "    <tr>\n",
       "      <th>1889-01-04 12:00:00</th>\n",
       "      <td>-36.277805</td>\n",
       "      <td>-33.487232</td>\n",
       "      <td>142.03125</td>\n",
       "      <td>144.84375</td>\n",
       "      <td>1.013407e-01</td>\n",
       "      <td>figsharerainfall/BCC-ESM1</td>\n",
       "    </tr>\n",
       "    <tr>\n",
       "      <th>1889-01-05 12:00:00</th>\n",
       "      <td>-36.277805</td>\n",
       "      <td>-33.487232</td>\n",
       "      <td>142.03125</td>\n",
       "      <td>144.84375</td>\n",
       "      <td>4.578585e-01</td>\n",
       "      <td>figsharerainfall/BCC-ESM1</td>\n",
       "    </tr>\n",
       "  </tbody>\n",
       "</table>\n",
       "</div>"
      ],
      "text/plain": [
       "                       lat_min    lat_max    lon_min    lon_max  \\\n",
       "time                                                              \n",
       "1889-01-01 12:00:00 -36.277805 -33.487232  142.03125  144.84375   \n",
       "1889-01-02 12:00:00 -36.277805 -33.487232  142.03125  144.84375   \n",
       "1889-01-03 12:00:00 -36.277805 -33.487232  142.03125  144.84375   \n",
       "1889-01-04 12:00:00 -36.277805 -33.487232  142.03125  144.84375   \n",
       "1889-01-05 12:00:00 -36.277805 -33.487232  142.03125  144.84375   \n",
       "\n",
       "                     rain (mm/day)                      model  \n",
       "time                                                           \n",
       "1889-01-01 12:00:00   1.286930e-24  figsharerainfall/BCC-ESM1  \n",
       "1889-01-02 12:00:00   1.279780e-24  figsharerainfall/BCC-ESM1  \n",
       "1889-01-03 12:00:00   1.499248e-17  figsharerainfall/BCC-ESM1  \n",
       "1889-01-04 12:00:00   1.013407e-01  figsharerainfall/BCC-ESM1  \n",
       "1889-01-05 12:00:00   4.578585e-01  figsharerainfall/BCC-ESM1  "
      ]
     },
     "execution_count": 3,
     "metadata": {},
     "output_type": "execute_result"
    }
   ],
   "source": [
    "# First load in the dataset using default settings for dtypes\n",
    "df = pd.read_csv(\"figsharerainfall/combined_data.csv\", parse_dates=True, index_col='time')\n",
    "df.head()"
   ]
  },
  {
   "cell_type": "code",
   "execution_count": 4,
   "id": "yellow-nashville",
   "metadata": {},
   "outputs": [
    {
     "data": {
      "text/plain": [
       "lat_min          float64\n",
       "lat_max          float64\n",
       "lon_min          float64\n",
       "lon_max          float64\n",
       "rain (mm/day)    float64\n",
       "model             object\n",
       "dtype: object"
      ]
     },
     "execution_count": 4,
     "metadata": {},
     "output_type": "execute_result"
    }
   ],
   "source": [
    "# As we can see below, dtypes are float64 and object\n",
    "df.dtypes"
   ]
  },
  {
   "cell_type": "code",
   "execution_count": 5,
   "id": "written-heater",
   "metadata": {},
   "outputs": [
    {
     "name": "stdout",
     "output_type": "stream",
     "text": [
      "Memory usage with float64: 3500.78 MB\n"
     ]
    }
   ],
   "source": [
    "# Measure the memory usage when representing numbers using float64 dtype\n",
    "print(f\"Memory usage with float64: {df.memory_usage().sum() / 1e6:.2f} MB\")"
   ]
  },
  {
   "cell_type": "code",
   "execution_count": 6,
   "id": "complicated-category",
   "metadata": {},
   "outputs": [
    {
     "name": "stdout",
     "output_type": "stream",
     "text": [
      "peak memory: 4578.35 MiB, increment: 0.05 MiB\n",
      "CPU times: user 6 s, sys: 1.23 s, total: 7.23 s\n",
      "Wall time: 7.39 s\n"
     ]
    },
    {
     "data": {
      "text/html": [
       "<div>\n",
       "<style scoped>\n",
       "    .dataframe tbody tr th:only-of-type {\n",
       "        vertical-align: middle;\n",
       "    }\n",
       "\n",
       "    .dataframe tbody tr th {\n",
       "        vertical-align: top;\n",
       "    }\n",
       "\n",
       "    .dataframe thead th {\n",
       "        text-align: right;\n",
       "    }\n",
       "</style>\n",
       "<table border=\"1\" class=\"dataframe\">\n",
       "  <thead>\n",
       "    <tr style=\"text-align: right;\">\n",
       "      <th></th>\n",
       "      <th>lat_min</th>\n",
       "      <th>lat_max</th>\n",
       "      <th>lon_min</th>\n",
       "      <th>lon_max</th>\n",
       "      <th>rain (mm/day)</th>\n",
       "    </tr>\n",
       "  </thead>\n",
       "  <tbody>\n",
       "    <tr>\n",
       "      <th>count</th>\n",
       "      <td>5.924854e+07</td>\n",
       "      <td>6.246784e+07</td>\n",
       "      <td>5.924854e+07</td>\n",
       "      <td>6.246784e+07</td>\n",
       "      <td>5.929456e+07</td>\n",
       "    </tr>\n",
       "    <tr>\n",
       "      <th>mean</th>\n",
       "      <td>-3.310482e+01</td>\n",
       "      <td>-3.197757e+01</td>\n",
       "      <td>1.469059e+02</td>\n",
       "      <td>1.482150e+02</td>\n",
       "      <td>1.901827e+00</td>\n",
       "    </tr>\n",
       "    <tr>\n",
       "      <th>std</th>\n",
       "      <td>1.963549e+00</td>\n",
       "      <td>1.992067e+00</td>\n",
       "      <td>3.793784e+00</td>\n",
       "      <td>3.809994e+00</td>\n",
       "      <td>5.588275e+00</td>\n",
       "    </tr>\n",
       "    <tr>\n",
       "      <th>min</th>\n",
       "      <td>-3.646739e+01</td>\n",
       "      <td>-3.600000e+01</td>\n",
       "      <td>1.406250e+02</td>\n",
       "      <td>1.412500e+02</td>\n",
       "      <td>-3.807373e-12</td>\n",
       "    </tr>\n",
       "    <tr>\n",
       "      <th>25%</th>\n",
       "      <td>-3.486911e+01</td>\n",
       "      <td>-3.366221e+01</td>\n",
       "      <td>1.434375e+02</td>\n",
       "      <td>1.450000e+02</td>\n",
       "      <td>3.876672e-06</td>\n",
       "    </tr>\n",
       "    <tr>\n",
       "      <th>50%</th>\n",
       "      <td>-3.300000e+01</td>\n",
       "      <td>-3.204188e+01</td>\n",
       "      <td>1.468750e+02</td>\n",
       "      <td>1.481250e+02</td>\n",
       "      <td>6.161705e-02</td>\n",
       "    </tr>\n",
       "    <tr>\n",
       "      <th>75%</th>\n",
       "      <td>-3.140170e+01</td>\n",
       "      <td>-3.015707e+01</td>\n",
       "      <td>1.501875e+02</td>\n",
       "      <td>1.513125e+02</td>\n",
       "      <td>1.021314e+00</td>\n",
       "    </tr>\n",
       "    <tr>\n",
       "      <th>max</th>\n",
       "      <td>-2.990000e+01</td>\n",
       "      <td>-2.790606e+01</td>\n",
       "      <td>1.537500e+02</td>\n",
       "      <td>1.556250e+02</td>\n",
       "      <td>4.329395e+02</td>\n",
       "    </tr>\n",
       "  </tbody>\n",
       "</table>\n",
       "</div>"
      ],
      "text/plain": [
       "            lat_min       lat_max       lon_min       lon_max  rain (mm/day)\n",
       "count  5.924854e+07  6.246784e+07  5.924854e+07  6.246784e+07   5.929456e+07\n",
       "mean  -3.310482e+01 -3.197757e+01  1.469059e+02  1.482150e+02   1.901827e+00\n",
       "std    1.963549e+00  1.992067e+00  3.793784e+00  3.809994e+00   5.588275e+00\n",
       "min   -3.646739e+01 -3.600000e+01  1.406250e+02  1.412500e+02  -3.807373e-12\n",
       "25%   -3.486911e+01 -3.366221e+01  1.434375e+02  1.450000e+02   3.876672e-06\n",
       "50%   -3.300000e+01 -3.204188e+01  1.468750e+02  1.481250e+02   6.161705e-02\n",
       "75%   -3.140170e+01 -3.015707e+01  1.501875e+02  1.513125e+02   1.021314e+00\n",
       "max   -2.990000e+01 -2.790606e+01  1.537500e+02  1.556250e+02   4.329395e+02"
      ]
     },
     "execution_count": 6,
     "metadata": {},
     "output_type": "execute_result"
    }
   ],
   "source": [
    "%%time\n",
    "%memit\n",
    "\n",
    "# Now perform a simple EDA with pandas describe function\n",
    "df.describe()"
   ]
  },
  {
   "cell_type": "markdown",
   "id": "stock-floating",
   "metadata": {},
   "source": [
    "Baseline memory and time data:\n",
    "- Memory usage with float64: 3500.78 MB\n",
    "- peak memory: 4578.35 MiB, increment: 0.05 MiB\n",
    "- CPU times: user 6 s, sys: 1.23 s, total: 7.23 s\n",
    "- Wall time: 7.39 s"
   ]
  },
  {
   "cell_type": "markdown",
   "id": "blind-recipient",
   "metadata": {},
   "source": [
    "### Effects of changing dtypes on memory usage"
   ]
  },
  {
   "cell_type": "code",
   "execution_count": 7,
   "id": "destroyed-sullivan",
   "metadata": {},
   "outputs": [
    {
     "data": {
      "text/html": [
       "<div>\n",
       "<style scoped>\n",
       "    .dataframe tbody tr th:only-of-type {\n",
       "        vertical-align: middle;\n",
       "    }\n",
       "\n",
       "    .dataframe tbody tr th {\n",
       "        vertical-align: top;\n",
       "    }\n",
       "\n",
       "    .dataframe thead th {\n",
       "        text-align: right;\n",
       "    }\n",
       "</style>\n",
       "<table border=\"1\" class=\"dataframe\">\n",
       "  <thead>\n",
       "    <tr style=\"text-align: right;\">\n",
       "      <th></th>\n",
       "      <th>lat_min</th>\n",
       "      <th>lat_max</th>\n",
       "      <th>lon_min</th>\n",
       "      <th>lon_max</th>\n",
       "      <th>rain (mm/day)</th>\n",
       "      <th>model</th>\n",
       "    </tr>\n",
       "    <tr>\n",
       "      <th>time</th>\n",
       "      <th></th>\n",
       "      <th></th>\n",
       "      <th></th>\n",
       "      <th></th>\n",
       "      <th></th>\n",
       "      <th></th>\n",
       "    </tr>\n",
       "  </thead>\n",
       "  <tbody>\n",
       "    <tr>\n",
       "      <th>1889-01-01 12:00:00</th>\n",
       "      <td>-36.277805</td>\n",
       "      <td>-33.487232</td>\n",
       "      <td>142.03125</td>\n",
       "      <td>144.84375</td>\n",
       "      <td>1.286930e-24</td>\n",
       "      <td>figsharerainfall/BCC-ESM1</td>\n",
       "    </tr>\n",
       "    <tr>\n",
       "      <th>1889-01-02 12:00:00</th>\n",
       "      <td>-36.277805</td>\n",
       "      <td>-33.487232</td>\n",
       "      <td>142.03125</td>\n",
       "      <td>144.84375</td>\n",
       "      <td>1.279780e-24</td>\n",
       "      <td>figsharerainfall/BCC-ESM1</td>\n",
       "    </tr>\n",
       "    <tr>\n",
       "      <th>1889-01-03 12:00:00</th>\n",
       "      <td>-36.277805</td>\n",
       "      <td>-33.487232</td>\n",
       "      <td>142.03125</td>\n",
       "      <td>144.84375</td>\n",
       "      <td>1.499248e-17</td>\n",
       "      <td>figsharerainfall/BCC-ESM1</td>\n",
       "    </tr>\n",
       "    <tr>\n",
       "      <th>1889-01-04 12:00:00</th>\n",
       "      <td>-36.277805</td>\n",
       "      <td>-33.487232</td>\n",
       "      <td>142.03125</td>\n",
       "      <td>144.84375</td>\n",
       "      <td>1.013407e-01</td>\n",
       "      <td>figsharerainfall/BCC-ESM1</td>\n",
       "    </tr>\n",
       "    <tr>\n",
       "      <th>1889-01-05 12:00:00</th>\n",
       "      <td>-36.277805</td>\n",
       "      <td>-33.487232</td>\n",
       "      <td>142.03125</td>\n",
       "      <td>144.84375</td>\n",
       "      <td>4.578585e-01</td>\n",
       "      <td>figsharerainfall/BCC-ESM1</td>\n",
       "    </tr>\n",
       "  </tbody>\n",
       "</table>\n",
       "</div>"
      ],
      "text/plain": [
       "                       lat_min    lat_max    lon_min    lon_max  \\\n",
       "time                                                              \n",
       "1889-01-01 12:00:00 -36.277805 -33.487232  142.03125  144.84375   \n",
       "1889-01-02 12:00:00 -36.277805 -33.487232  142.03125  144.84375   \n",
       "1889-01-03 12:00:00 -36.277805 -33.487232  142.03125  144.84375   \n",
       "1889-01-04 12:00:00 -36.277805 -33.487232  142.03125  144.84375   \n",
       "1889-01-05 12:00:00 -36.277805 -33.487232  142.03125  144.84375   \n",
       "\n",
       "                     rain (mm/day)                      model  \n",
       "time                                                           \n",
       "1889-01-01 12:00:00   1.286930e-24  figsharerainfall/BCC-ESM1  \n",
       "1889-01-02 12:00:00   1.279780e-24  figsharerainfall/BCC-ESM1  \n",
       "1889-01-03 12:00:00   1.499248e-17  figsharerainfall/BCC-ESM1  \n",
       "1889-01-04 12:00:00   1.013407e-01  figsharerainfall/BCC-ESM1  \n",
       "1889-01-05 12:00:00   4.578585e-01  figsharerainfall/BCC-ESM1  "
      ]
     },
     "execution_count": 7,
     "metadata": {},
     "output_type": "execute_result"
    }
   ],
   "source": [
    "# Now load in the dataset using float32 dtype to represent numbers\n",
    "colum_dtypes = {'lat_min': np.float32, 'lat_max': np.float32, 'lon_min': np.float32, 'lon_max': np.float32, 'rain (mm/day)': np.float32, 'model': str}\n",
    "df = pd.read_csv(\"figsharerainfall/combined_data.csv\",parse_dates=True, index_col='time', dtype=colum_dtypes)\n",
    "df.head()"
   ]
  },
  {
   "cell_type": "code",
   "execution_count": 8,
   "id": "complimentary-duncan",
   "metadata": {},
   "outputs": [
    {
     "data": {
      "text/plain": [
       "lat_min          float32\n",
       "lat_max          float32\n",
       "lon_min          float32\n",
       "lon_max          float32\n",
       "rain (mm/day)    float32\n",
       "model             object\n",
       "dtype: object"
      ]
     },
     "execution_count": 8,
     "metadata": {},
     "output_type": "execute_result"
    }
   ],
   "source": [
    "# As we can see below, dtypes are float32 and object\n",
    "df.dtypes"
   ]
  },
  {
   "cell_type": "code",
   "execution_count": 9,
   "id": "typical-devices",
   "metadata": {},
   "outputs": [
    {
     "name": "stdout",
     "output_type": "stream",
     "text": [
      "Memory usage with float32: 2250.50 MB\n"
     ]
    }
   ],
   "source": [
    "print(f\"Memory usage with float32: {df.memory_usage().sum() / 1e6:.2f} MB\")"
   ]
  },
  {
   "cell_type": "code",
   "execution_count": 10,
   "id": "collectible-tennis",
   "metadata": {},
   "outputs": [
    {
     "name": "stdout",
     "output_type": "stream",
     "text": [
      "peak memory: 6343.20 MiB, increment: 0.02 MiB\n",
      "CPU times: user 4.88 s, sys: 644 ms, total: 5.53 s\n",
      "Wall time: 5.7 s\n"
     ]
    },
    {
     "data": {
      "text/html": [
       "<div>\n",
       "<style scoped>\n",
       "    .dataframe tbody tr th:only-of-type {\n",
       "        vertical-align: middle;\n",
       "    }\n",
       "\n",
       "    .dataframe tbody tr th {\n",
       "        vertical-align: top;\n",
       "    }\n",
       "\n",
       "    .dataframe thead th {\n",
       "        text-align: right;\n",
       "    }\n",
       "</style>\n",
       "<table border=\"1\" class=\"dataframe\">\n",
       "  <thead>\n",
       "    <tr style=\"text-align: right;\">\n",
       "      <th></th>\n",
       "      <th>lat_min</th>\n",
       "      <th>lat_max</th>\n",
       "      <th>lon_min</th>\n",
       "      <th>lon_max</th>\n",
       "      <th>rain (mm/day)</th>\n",
       "    </tr>\n",
       "  </thead>\n",
       "  <tbody>\n",
       "    <tr>\n",
       "      <th>count</th>\n",
       "      <td>5.924854e+07</td>\n",
       "      <td>6.246784e+07</td>\n",
       "      <td>5.924854e+07</td>\n",
       "      <td>6.246784e+07</td>\n",
       "      <td>5.929456e+07</td>\n",
       "    </tr>\n",
       "    <tr>\n",
       "      <th>mean</th>\n",
       "      <td>-3.310503e+01</td>\n",
       "      <td>-3.197712e+01</td>\n",
       "      <td>1.469070e+02</td>\n",
       "      <td>1.482141e+02</td>\n",
       "      <td>1.901825e+00</td>\n",
       "    </tr>\n",
       "    <tr>\n",
       "      <th>std</th>\n",
       "      <td>1.963549e+00</td>\n",
       "      <td>1.992067e+00</td>\n",
       "      <td>3.793784e+00</td>\n",
       "      <td>3.809994e+00</td>\n",
       "      <td>5.588274e+00</td>\n",
       "    </tr>\n",
       "    <tr>\n",
       "      <th>min</th>\n",
       "      <td>-3.646739e+01</td>\n",
       "      <td>-3.600000e+01</td>\n",
       "      <td>1.406250e+02</td>\n",
       "      <td>1.412500e+02</td>\n",
       "      <td>-3.807373e-12</td>\n",
       "    </tr>\n",
       "    <tr>\n",
       "      <th>25%</th>\n",
       "      <td>-3.486911e+01</td>\n",
       "      <td>-3.366221e+01</td>\n",
       "      <td>1.434375e+02</td>\n",
       "      <td>1.450000e+02</td>\n",
       "      <td>3.876672e-06</td>\n",
       "    </tr>\n",
       "    <tr>\n",
       "      <th>50%</th>\n",
       "      <td>-3.300000e+01</td>\n",
       "      <td>-3.204189e+01</td>\n",
       "      <td>1.468750e+02</td>\n",
       "      <td>1.481250e+02</td>\n",
       "      <td>6.161705e-02</td>\n",
       "    </tr>\n",
       "    <tr>\n",
       "      <th>75%</th>\n",
       "      <td>-3.140170e+01</td>\n",
       "      <td>-3.015707e+01</td>\n",
       "      <td>1.501875e+02</td>\n",
       "      <td>1.513125e+02</td>\n",
       "      <td>1.021314e+00</td>\n",
       "    </tr>\n",
       "    <tr>\n",
       "      <th>max</th>\n",
       "      <td>-2.990000e+01</td>\n",
       "      <td>-2.790606e+01</td>\n",
       "      <td>1.537500e+02</td>\n",
       "      <td>1.556250e+02</td>\n",
       "      <td>4.329395e+02</td>\n",
       "    </tr>\n",
       "  </tbody>\n",
       "</table>\n",
       "</div>"
      ],
      "text/plain": [
       "            lat_min       lat_max       lon_min       lon_max  rain (mm/day)\n",
       "count  5.924854e+07  6.246784e+07  5.924854e+07  6.246784e+07   5.929456e+07\n",
       "mean  -3.310503e+01 -3.197712e+01  1.469070e+02  1.482141e+02   1.901825e+00\n",
       "std    1.963549e+00  1.992067e+00  3.793784e+00  3.809994e+00   5.588274e+00\n",
       "min   -3.646739e+01 -3.600000e+01  1.406250e+02  1.412500e+02  -3.807373e-12\n",
       "25%   -3.486911e+01 -3.366221e+01  1.434375e+02  1.450000e+02   3.876672e-06\n",
       "50%   -3.300000e+01 -3.204189e+01  1.468750e+02  1.481250e+02   6.161705e-02\n",
       "75%   -3.140170e+01 -3.015707e+01  1.501875e+02  1.513125e+02   1.021314e+00\n",
       "max   -2.990000e+01 -2.790606e+01  1.537500e+02  1.556250e+02   4.329395e+02"
      ]
     },
     "execution_count": 10,
     "metadata": {},
     "output_type": "execute_result"
    }
   ],
   "source": [
    "%%time\n",
    "%memit\n",
    "\n",
    "# Now perform a simple EDA with pandas describe function\n",
    "df.describe()"
   ]
  },
  {
   "cell_type": "markdown",
   "id": "recreational-progressive",
   "metadata": {},
   "source": [
    "Time and memory data when using different dtypes:\n",
    "- Memory usage with float32: 2250.50 MB\n",
    "- peak memory: 6343.20 MiB, increment: 0.02 MiB\n",
    "- CPU times: user 4.88 s, sys: 644 ms, total: 5.53 s\n",
    "- Wall time: 5.7 s"
   ]
  },
  {
   "cell_type": "markdown",
   "id": "enhanced-consideration",
   "metadata": {},
   "source": [
    "### Effects of loading a smaller subset of columns on memory usage"
   ]
  },
  {
   "cell_type": "code",
   "execution_count": 11,
   "id": "criminal-slide",
   "metadata": {},
   "outputs": [
    {
     "data": {
      "text/html": [
       "<div>\n",
       "<style scoped>\n",
       "    .dataframe tbody tr th:only-of-type {\n",
       "        vertical-align: middle;\n",
       "    }\n",
       "\n",
       "    .dataframe tbody tr th {\n",
       "        vertical-align: top;\n",
       "    }\n",
       "\n",
       "    .dataframe thead th {\n",
       "        text-align: right;\n",
       "    }\n",
       "</style>\n",
       "<table border=\"1\" class=\"dataframe\">\n",
       "  <thead>\n",
       "    <tr style=\"text-align: right;\">\n",
       "      <th></th>\n",
       "      <th>lat_min</th>\n",
       "      <th>rain (mm/day)</th>\n",
       "    </tr>\n",
       "    <tr>\n",
       "      <th>time</th>\n",
       "      <th></th>\n",
       "      <th></th>\n",
       "    </tr>\n",
       "  </thead>\n",
       "  <tbody>\n",
       "    <tr>\n",
       "      <th>1889-01-01 12:00:00</th>\n",
       "      <td>-36.277805</td>\n",
       "      <td>1.286930e-24</td>\n",
       "    </tr>\n",
       "    <tr>\n",
       "      <th>1889-01-02 12:00:00</th>\n",
       "      <td>-36.277805</td>\n",
       "      <td>1.279780e-24</td>\n",
       "    </tr>\n",
       "    <tr>\n",
       "      <th>1889-01-03 12:00:00</th>\n",
       "      <td>-36.277805</td>\n",
       "      <td>1.499248e-17</td>\n",
       "    </tr>\n",
       "    <tr>\n",
       "      <th>1889-01-04 12:00:00</th>\n",
       "      <td>-36.277805</td>\n",
       "      <td>1.013407e-01</td>\n",
       "    </tr>\n",
       "    <tr>\n",
       "      <th>1889-01-05 12:00:00</th>\n",
       "      <td>-36.277805</td>\n",
       "      <td>4.578585e-01</td>\n",
       "    </tr>\n",
       "  </tbody>\n",
       "</table>\n",
       "</div>"
      ],
      "text/plain": [
       "                       lat_min  rain (mm/day)\n",
       "time                                         \n",
       "1889-01-01 12:00:00 -36.277805   1.286930e-24\n",
       "1889-01-02 12:00:00 -36.277805   1.279780e-24\n",
       "1889-01-03 12:00:00 -36.277805   1.499248e-17\n",
       "1889-01-04 12:00:00 -36.277805   1.013407e-01\n",
       "1889-01-05 12:00:00 -36.277805   4.578585e-01"
      ]
     },
     "execution_count": 11,
     "metadata": {},
     "output_type": "execute_result"
    }
   ],
   "source": [
    "# Now load only a subset of columns from the dataset\n",
    "df = pd.read_csv(\"figsharerainfall/combined_data.csv\",parse_dates=True, index_col='time', usecols=['time', 'lat_min', 'rain (mm/day)'])\n",
    "df.head()"
   ]
  },
  {
   "cell_type": "code",
   "execution_count": 12,
   "id": "silver-compound",
   "metadata": {},
   "outputs": [
    {
     "data": {
      "text/plain": [
       "lat_min          float64\n",
       "rain (mm/day)    float64\n",
       "dtype: object"
      ]
     },
     "execution_count": 12,
     "metadata": {},
     "output_type": "execute_result"
    }
   ],
   "source": [
    "# As we can see below, dtypes are float64 by default\n",
    "df.dtypes"
   ]
  },
  {
   "cell_type": "code",
   "execution_count": 13,
   "id": "greenhouse-morgan",
   "metadata": {},
   "outputs": [
    {
     "name": "stdout",
     "output_type": "stream",
     "text": [
      "Memory usage with reduced number of columns: 1500.33 MB\n"
     ]
    }
   ],
   "source": [
    "print(f\"Memory usage with reduced number of columns: {df.memory_usage().sum() / 1e6:.2f} MB\")"
   ]
  },
  {
   "cell_type": "code",
   "execution_count": 14,
   "id": "global-electron",
   "metadata": {},
   "outputs": [
    {
     "name": "stdout",
     "output_type": "stream",
     "text": [
      "peak memory: 7772.16 MiB, increment: 0.09 MiB\n",
      "CPU times: user 2.77 s, sys: 1.24 s, total: 4.01 s\n",
      "Wall time: 4.2 s\n"
     ]
    },
    {
     "data": {
      "text/html": [
       "<div>\n",
       "<style scoped>\n",
       "    .dataframe tbody tr th:only-of-type {\n",
       "        vertical-align: middle;\n",
       "    }\n",
       "\n",
       "    .dataframe tbody tr th {\n",
       "        vertical-align: top;\n",
       "    }\n",
       "\n",
       "    .dataframe thead th {\n",
       "        text-align: right;\n",
       "    }\n",
       "</style>\n",
       "<table border=\"1\" class=\"dataframe\">\n",
       "  <thead>\n",
       "    <tr style=\"text-align: right;\">\n",
       "      <th></th>\n",
       "      <th>lat_min</th>\n",
       "      <th>rain (mm/day)</th>\n",
       "    </tr>\n",
       "  </thead>\n",
       "  <tbody>\n",
       "    <tr>\n",
       "      <th>count</th>\n",
       "      <td>5.924854e+07</td>\n",
       "      <td>5.929456e+07</td>\n",
       "    </tr>\n",
       "    <tr>\n",
       "      <th>mean</th>\n",
       "      <td>-3.310482e+01</td>\n",
       "      <td>1.901827e+00</td>\n",
       "    </tr>\n",
       "    <tr>\n",
       "      <th>std</th>\n",
       "      <td>1.963549e+00</td>\n",
       "      <td>5.588275e+00</td>\n",
       "    </tr>\n",
       "    <tr>\n",
       "      <th>min</th>\n",
       "      <td>-3.646739e+01</td>\n",
       "      <td>-3.807373e-12</td>\n",
       "    </tr>\n",
       "    <tr>\n",
       "      <th>25%</th>\n",
       "      <td>-3.486911e+01</td>\n",
       "      <td>3.876672e-06</td>\n",
       "    </tr>\n",
       "    <tr>\n",
       "      <th>50%</th>\n",
       "      <td>-3.300000e+01</td>\n",
       "      <td>6.161705e-02</td>\n",
       "    </tr>\n",
       "    <tr>\n",
       "      <th>75%</th>\n",
       "      <td>-3.140170e+01</td>\n",
       "      <td>1.021314e+00</td>\n",
       "    </tr>\n",
       "    <tr>\n",
       "      <th>max</th>\n",
       "      <td>-2.990000e+01</td>\n",
       "      <td>4.329395e+02</td>\n",
       "    </tr>\n",
       "  </tbody>\n",
       "</table>\n",
       "</div>"
      ],
      "text/plain": [
       "            lat_min  rain (mm/day)\n",
       "count  5.924854e+07   5.929456e+07\n",
       "mean  -3.310482e+01   1.901827e+00\n",
       "std    1.963549e+00   5.588275e+00\n",
       "min   -3.646739e+01  -3.807373e-12\n",
       "25%   -3.486911e+01   3.876672e-06\n",
       "50%   -3.300000e+01   6.161705e-02\n",
       "75%   -3.140170e+01   1.021314e+00\n",
       "max   -2.990000e+01   4.329395e+02"
      ]
     },
     "execution_count": 14,
     "metadata": {},
     "output_type": "execute_result"
    }
   ],
   "source": [
    "%%time\n",
    "%memit\n",
    "\n",
    "# Now perform a simple EDA with pandas describe function\n",
    "df.describe()"
   ]
  },
  {
   "cell_type": "markdown",
   "id": "muslim-conflict",
   "metadata": {},
   "source": [
    "Time and memory data when using column subset:\n",
    "- Memory usage with reduced number of columns: 1500.33 MB\n",
    "- peak memory: 7772.16 MiB, increment: 0.09 MiB\n",
    "- CPU times: user 2.77 s, sys: 1.24 s, total: 4.01 s\n",
    "- Wall time: 4.2 s"
   ]
  },
  {
   "cell_type": "markdown",
   "id": "proper-routine",
   "metadata": {},
   "source": [
    "### Summary"
   ]
  },
  {
   "cell_type": "markdown",
   "id": "applied-invite",
   "metadata": {},
   "source": [
    "#### Using float32 vs. baseline float64 dtype to perform a simple EDA:\n",
    "- The memory usage decreased from 3500.78 MB to 2250.50 MB when representing numbers using float32 instead of float64\n",
    "- When using the pandas describe function to perform a simple EDA, we found that the peak memory actually increased when using float32 dtype for the numerical columns. \n",
    "- The wall time taken to perform the EDA also decreased to 5.7s from the baseline of 7.4s. \n",
    "\n",
    "#### Using a reduced number of columns compared to the baseline to perform a simple EDA:\n",
    "- The memory usage decreased from 3500.78 MB to 1500.33 MB when using a subset of columns from the dataset\n",
    "- When using the pandas describe function to perform a simple EDA, we found that the peak memory actually increased when using fewer columns. \n",
    "- The wall time taken to perform the EDA also decreased to 4.2s from the baseline of 7.4s. "
   ]
  },
  {
   "cell_type": "markdown",
   "id": "bizarre-ordering",
   "metadata": {},
   "source": [
    "## Perform a simple EDA in R <a name=\"4\"></a>"
   ]
  },
  {
   "cell_type": "code",
   "execution_count": null,
   "id": "visible-month",
   "metadata": {},
   "outputs": [],
   "source": []
  },
  {
   "cell_type": "code",
   "execution_count": null,
   "id": "median-export",
   "metadata": {},
   "outputs": [],
   "source": []
  },
  {
   "cell_type": "code",
   "execution_count": null,
   "id": "noted-september",
   "metadata": {},
   "outputs": [],
   "source": []
  },
  {
   "cell_type": "code",
   "execution_count": null,
   "id": "stone-roman",
   "metadata": {},
   "outputs": [],
   "source": []
  },
  {
   "cell_type": "markdown",
   "id": "antique-louisville",
   "metadata": {},
   "source": [
    "## Reflection <a name=\"5\"></a>"
   ]
  },
  {
   "cell_type": "markdown",
   "id": "presidential-portable",
   "metadata": {},
   "source": [
    "Issues we encountered included:\n",
    "- Even though the filesizes were only 5 GB, we actually required 10 GB of disk space since we needed to download and unzip the data.\n",
    "- We got some confusing results by accidentally re-downloading the dataset without first deleting it since we were then combining twice as many files in the next step."
   ]
  }
 ],
 "metadata": {
  "kernelspec": {
   "display_name": "Python [conda env:525]",
   "language": "python",
   "name": "conda-env-525-py"
  },
  "language_info": {
   "codemirror_mode": {
    "name": "ipython",
    "version": 3
   },
   "file_extension": ".py",
   "mimetype": "text/x-python",
   "name": "python",
   "nbconvert_exporter": "python",
   "pygments_lexer": "ipython3",
   "version": "3.9.2"
  }
 },
 "nbformat": 4,
 "nbformat_minor": 5
}
